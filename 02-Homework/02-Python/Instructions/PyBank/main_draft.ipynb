{
 "cells": [
  {
   "cell_type": "code",
   "execution_count": 1,
   "id": "29fc5f5d-846b-40a9-81a9-8c62849ee588",
   "metadata": {},
   "outputs": [],
   "source": [
    "# Import the pathlib and csv library\n",
    "from pathlib import Path\n",
    "import csv"
   ]
  },
  {
   "cell_type": "code",
   "execution_count": 2,
   "id": "fc14491a-743b-462d-adc8-fab1244e97c4",
   "metadata": {},
   "outputs": [],
   "source": [
    "csvpath = Path(\"Resources/budget_data.csv\")"
   ]
  },
  {
   "cell_type": "code",
   "execution_count": 3,
   "id": "16ad75db-8915-4cac-9d48-bd10c18f7b66",
   "metadata": {},
   "outputs": [],
   "source": [
    "# Initialize variables to hold budget data\n",
    "months = []\n",
    "profit_loss = []"
   ]
  },
  {
   "cell_type": "code",
   "execution_count": 4,
   "id": "058b8dce-9148-4351-bb68-1bc43d08d459",
   "metadata": {},
   "outputs": [
    {
     "name": "stdout",
     "output_type": "stream",
     "text": [
      "['Date', 'Profit/Losses'] \n",
      "-------------------------\n",
      "['Jan-2010', '867884']\n",
      "['Feb-2010', '984655']\n",
      "['Mar-2010', '322013']\n",
      "['Apr-2010', '-69417']\n",
      "['May-2010', '310503']\n",
      "['Jun-2010', '522857']\n",
      "['Jul-2010', '1033096']\n",
      "['Aug-2010', '604885']\n",
      "['Sep-2010', '-216386']\n",
      "['Oct-2010', '477532']\n",
      "['Nov-2010', '893810']\n",
      "['Dec-2010', '-80353']\n",
      "['Jan-2011', '779806']\n",
      "['Feb-2011', '-335203']\n",
      "['Mar-2011', '697845']\n",
      "['Apr-2011', '793163']\n",
      "['May-2011', '485070']\n",
      "['Jun-2011', '584122']\n",
      "['Jul-2011', '62729']\n",
      "['Aug-2011', '668179']\n",
      "['Sep-2011', '899906']\n",
      "['Oct-2011', '834719']\n",
      "['Nov-2011', '132003']\n",
      "['Dec-2011', '309978']\n",
      "['Jan-2012', '-755566']\n",
      "['Feb-2012', '1170593']\n",
      "['Mar-2012', '252788']\n",
      "['Apr-2012', '1151518']\n",
      "['May-2012', '817256']\n",
      "['Jun-2012', '570757']\n",
      "['Jul-2012', '506702']\n",
      "['Aug-2012', '-1022534']\n",
      "['Sep-2012', '475062']\n",
      "['Oct-2012', '779976']\n",
      "['Nov-2012', '144175']\n",
      "['Dec-2012', '542494']\n",
      "['Jan-2013', '359333']\n",
      "['Feb-2013', '321469']\n",
      "['Mar-2013', '67780']\n",
      "['Apr-2013', '471435']\n",
      "['May-2013', '565603']\n",
      "['Jun-2013', '872480']\n",
      "['Jul-2013', '789480']\n",
      "['Aug-2013', '999942']\n",
      "['Sep-2013', '-1196225']\n",
      "['Oct-2013', '268997']\n",
      "['Nov-2013', '-687986']\n",
      "['Dec-2013', '1150461']\n",
      "['Jan-2014', '682458']\n",
      "['Feb-2014', '617856']\n",
      "['Mar-2014', '824098']\n",
      "['Apr-2014', '581943']\n",
      "['May-2014', '132864']\n",
      "['Jun-2014', '448062']\n",
      "['Jul-2014', '689161']\n",
      "['Aug-2014', '800701']\n",
      "['Sep-2014', '1166643']\n",
      "['Oct-2014', '947333']\n",
      "['Nov-2014', '578668']\n",
      "['Dec-2014', '988505']\n",
      "['Jan-2015', '1139715']\n",
      "['Feb-2015', '1029471']\n",
      "['Mar-2015', '687533']\n",
      "['Apr-2015', '-524626']\n",
      "['May-2015', '158620']\n",
      "['Jun-2015', '87795']\n",
      "['Jul-2015', '423389']\n",
      "['Aug-2015', '840723']\n",
      "['Sep-2015', '568529']\n",
      "['Oct-2015', '332067']\n",
      "['Nov-2015', '989499']\n",
      "['Dec-2015', '778237']\n",
      "['Jan-2016', '650000']\n",
      "['Feb-2016', '-1100387']\n",
      "['Mar-2016', '-174946']\n",
      "['Apr-2016', '757143']\n",
      "['May-2016', '445709']\n",
      "['Jun-2016', '712961']\n",
      "['Jul-2016', '-1163797']\n",
      "['Aug-2016', '569899']\n",
      "['Sep-2016', '768450']\n",
      "['Oct-2016', '102685']\n",
      "['Nov-2016', '795914']\n",
      "['Dec-2016', '60988']\n",
      "['Jan-2017', '138230']\n",
      "['Feb-2017', '671099']\n"
     ]
    }
   ],
   "source": [
    "#Print organized header and data, and append row data to corresponding lists created above\n",
    "with open (csvpath, 'r') as csvfile:\n",
    "    csvreader =  csv.reader(csvfile, delimiter = ',')\n",
    "    header = next(csvreader)\n",
    "    print(header, '\\n' '-------------------------')\n",
    "    for row in csvreader:\n",
    "        print(row)\n",
    "        months.append(row[0])\n",
    "        profit_loss.append(row[1])"
   ]
  },
  {
   "cell_type": "code",
   "execution_count": 5,
   "id": "4c05e3a9-79e5-4c7f-a3e2-3bdb19781dd3",
   "metadata": {},
   "outputs": [],
   "source": [
    "#Creating metric variables\n",
    "total_months = 0\n",
    "net_profit_loss = 0\n",
    "average_change_pl = 0\n",
    "greatest_inc_profit = 0\n",
    "greatest_dec_profit = 0"
   ]
  },
  {
   "cell_type": "code",
   "execution_count": 6,
   "id": "50b66060-1fbd-4f9b-b7e2-79294925cbf9",
   "metadata": {},
   "outputs": [
    {
     "name": "stdout",
     "output_type": "stream",
     "text": [
      "86\n"
     ]
    }
   ],
   "source": [
    "#Calculating total months in budget set\n",
    "for month in months:\n",
    "    total_months += 1\n",
    "print(total_months)"
   ]
  },
  {
   "cell_type": "code",
   "execution_count": 7,
   "id": "8b0e341b-1e8c-44d0-a96a-a35eaaec9d55",
   "metadata": {},
   "outputs": [
    {
     "name": "stdout",
     "output_type": "stream",
     "text": [
      "38382578\n"
     ]
    }
   ],
   "source": [
    "#calculating net profit/loss over entire period\n",
    "for margin in profit_loss:\n",
    "    margin = int(margin)\n",
    "    net_profit_loss = net_profit_loss + margin\n",
    "print(net_profit_loss)"
   ]
  },
  {
   "cell_type": "code",
   "execution_count": 9,
   "id": "97078a0b-c61d-4b18-a9b3-5eea5a75f056",
   "metadata": {},
   "outputs": [
    {
     "data": {
      "text/plain": [
       "446309.05"
      ]
     },
     "execution_count": 9,
     "metadata": {},
     "output_type": "execute_result"
    }
   ],
   "source": [
    "#calculating average change in profit/loss over entire period \n",
    "average_change_pl = net_profit_loss/total_months\n",
    "round(average_change_pl, 2)"
   ]
  },
  {
   "cell_type": "code",
   "execution_count": null,
   "id": "eb11f2c0-6ae8-4f40-a1bc-e78c3711aae4",
   "metadata": {},
   "outputs": [],
   "source": []
  },
  {
   "cell_type": "code",
   "execution_count": null,
   "id": "ed84dadb-d223-4a01-8bff-2f15161b285f",
   "metadata": {},
   "outputs": [],
   "source": []
  }
 ],
 "metadata": {
  "kernelspec": {
   "display_name": "Python 3",
   "language": "python",
   "name": "python3"
  },
  "language_info": {
   "codemirror_mode": {
    "name": "ipython",
    "version": 3
   },
   "file_extension": ".py",
   "mimetype": "text/x-python",
   "name": "python",
   "nbconvert_exporter": "python",
   "pygments_lexer": "ipython3",
   "version": "3.7.10"
  }
 },
 "nbformat": 4,
 "nbformat_minor": 5
}
