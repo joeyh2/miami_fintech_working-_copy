{
 "cells": [
  {
   "cell_type": "code",
   "execution_count": 3,
   "id": "a9db0323-c8aa-44d8-beca-3212c44b62d1",
   "metadata": {},
   "outputs": [],
   "source": [
    "  # Initialize a dictionary containing top traders for each month in 2019\n",
    "top_traders = {\n",
    "    \"january\" : \"Karen\",\n",
    "    \"february\" : \"Harold\",\n",
    "    \"march\" : \"Sam\"}"
   ]
  },
  {
   "cell_type": "code",
   "execution_count": 6,
   "id": "1a9995c5-bda5-4d05-a41f-14b8099efcd8",
   "metadata": {},
   "outputs": [
    {
     "data": {
      "text/plain": [
       "'Harold'"
      ]
     },
     "execution_count": 6,
     "metadata": {},
     "output_type": "execute_result"
    }
   ],
   "source": [
    "top_traders[\"february\"]"
   ]
  },
  {
   "cell_type": "code",
   "execution_count": 11,
   "id": "2f845332-4ac3-4a7d-8c90-e73f867d1410",
   "metadata": {},
   "outputs": [],
   "source": [
    "my_keys = top_traders.keys()"
   ]
  },
  {
   "cell_type": "code",
   "execution_count": 12,
   "id": "c2cf2db7-61ce-48a9-9c2c-f9b04ca85de0",
   "metadata": {},
   "outputs": [
    {
     "data": {
      "text/plain": [
       "dict_keys(['january', 'february', 'march'])"
      ]
     },
     "execution_count": 12,
     "metadata": {},
     "output_type": "execute_result"
    }
   ],
   "source": [
    "my_keys"
   ]
  },
  {
   "cell_type": "code",
   "execution_count": null,
   "id": "a25089ba-997e-425f-b494-5ad6d5cd4eba",
   "metadata": {},
   "outputs": [],
   "source": []
  }
 ],
 "metadata": {
  "kernelspec": {
   "display_name": "Python 3",
   "language": "python",
   "name": "python3"
  },
  "language_info": {
   "codemirror_mode": {
    "name": "ipython",
    "version": 3
   },
   "file_extension": ".py",
   "mimetype": "text/x-python",
   "name": "python",
   "nbconvert_exporter": "python",
   "pygments_lexer": "ipython3",
   "version": "3.7.10"
  }
 },
 "nbformat": 4,
 "nbformat_minor": 5
}
