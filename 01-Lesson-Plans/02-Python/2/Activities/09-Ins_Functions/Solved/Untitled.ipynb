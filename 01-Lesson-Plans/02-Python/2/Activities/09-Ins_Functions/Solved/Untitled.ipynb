{
 "cells": [
  {
   "cell_type": "code",
   "execution_count": 7,
   "id": "9afab032-cf91-439c-8bd4-1552e4b7cf2f",
   "metadata": {},
   "outputs": [],
   "source": [
    "#function - execution of one or many steps\n",
    "def greeting(name):\n",
    "    print(f'Hello {name}')"
   ]
  },
  {
   "cell_type": "code",
   "execution_count": 10,
   "id": "b5c857d5-ef96-4a8d-a767-0fbb609d87a4",
   "metadata": {},
   "outputs": [
    {
     "name": "stdout",
     "output_type": "stream",
     "text": [
      "Hello Joey\n"
     ]
    }
   ],
   "source": [
    "greeting('Joey')"
   ]
  },
  {
   "cell_type": "code",
   "execution_count": 23,
   "id": "b16eb5d4-98b0-428b-b8b3-5028f03f867e",
   "metadata": {},
   "outputs": [],
   "source": [
    "def calculate_market_cap(market_price,number_of_shares):\n",
    "    cap = market_price * number_of_shares\n",
    "    \n",
    "    return cap\n",
    "    \n",
    "    "
   ]
  },
  {
   "cell_type": "code",
   "execution_count": 24,
   "id": "b2a7a9d3-a102-4078-8481-01a7ff82ce51",
   "metadata": {},
   "outputs": [],
   "source": [
    "market_cap = calculate_market_cap(40.50,1000)"
   ]
  },
  {
   "cell_type": "code",
   "execution_count": 25,
   "id": "2afe4e0f-40e6-4391-b57e-c37a78c147fc",
   "metadata": {},
   "outputs": [
    {
     "data": {
      "text/plain": [
       "40500.0"
      ]
     },
     "execution_count": 25,
     "metadata": {},
     "output_type": "execute_result"
    }
   ],
   "source": [
    "market_cap"
   ]
  },
  {
   "cell_type": "code",
   "execution_count": 34,
   "id": "ad7f624c-af1e-4280-8515-005f4c2d95cf",
   "metadata": {},
   "outputs": [],
   "source": [
    "budget = 120000\n",
    "ticker = 'TSLA'\n",
    "share_price = 1068.96\n",
    "\n",
    "def total_shares(b,t,s):\n",
    "    shares = budget / share_price\n",
    "    print(f'You can buy {shares} of {ticker}')\n",
    "    "
   ]
  },
  {
   "cell_type": "code",
   "execution_count": 35,
   "id": "4077f046-8fc8-41ab-8d8f-61f35bff740b",
   "metadata": {},
   "outputs": [
    {
     "name": "stdout",
     "output_type": "stream",
     "text": [
      "You can buy 112.2586439155815 of TSLA\n"
     ]
    }
   ],
   "source": [
    "total_shares(budget,ticker,share_price)"
   ]
  },
  {
   "cell_type": "code",
   "execution_count": null,
   "id": "72818f2e-0c86-4224-ae6e-0b9d39b1d17a",
   "metadata": {},
   "outputs": [],
   "source": []
  }
 ],
 "metadata": {
  "kernelspec": {
   "display_name": "Python 3",
   "language": "python",
   "name": "python3"
  },
  "language_info": {
   "codemirror_mode": {
    "name": "ipython",
    "version": 3
   },
   "file_extension": ".py",
   "mimetype": "text/x-python",
   "name": "python",
   "nbconvert_exporter": "python",
   "pygments_lexer": "ipython3",
   "version": "3.7.10"
  }
 },
 "nbformat": 4,
 "nbformat_minor": 5
}
