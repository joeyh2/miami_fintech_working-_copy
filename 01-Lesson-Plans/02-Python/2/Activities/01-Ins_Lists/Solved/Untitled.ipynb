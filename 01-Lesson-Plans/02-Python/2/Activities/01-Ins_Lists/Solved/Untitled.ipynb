{
 "cells": [
  {
   "cell_type": "code",
   "execution_count": 2,
   "id": "7423a4ec-b451-427b-8ada-ff1f63fc95d6",
   "metadata": {},
   "outputs": [],
   "source": [
    "cheer = [\"Cheer Loudly\", \"Fintech\", \"Money\"]"
   ]
  },
  {
   "cell_type": "code",
   "execution_count": 3,
   "id": "cc979edb-278e-4fbe-ab59-94752c650e7b",
   "metadata": {},
   "outputs": [
    {
     "data": {
      "text/plain": [
       "list"
      ]
     },
     "execution_count": 3,
     "metadata": {},
     "output_type": "execute_result"
    }
   ],
   "source": [
    "type(cheer)"
   ]
  },
  {
   "cell_type": "code",
   "execution_count": 4,
   "id": "4e539036-d520-4be8-8a94-9634444f227f",
   "metadata": {},
   "outputs": [
    {
     "name": "stdout",
     "output_type": "stream",
     "text": [
      "['Cheer Loudly', 'Fintech', 'Money']\n"
     ]
    }
   ],
   "source": [
    "print(cheer)"
   ]
  },
  {
   "cell_type": "code",
   "execution_count": 5,
   "id": "c286bed1-66ae-4c7e-904a-997c1a0560c4",
   "metadata": {},
   "outputs": [
    {
     "data": {
      "text/plain": [
       "'Cheer Loudly'"
      ]
     },
     "execution_count": 5,
     "metadata": {},
     "output_type": "execute_result"
    }
   ],
   "source": [
    "#Lists are index based\n",
    "cheer[0]"
   ]
  },
  {
   "cell_type": "code",
   "execution_count": 6,
   "id": "10b68b93-3b60-49fc-9a16-d2fbc2d049da",
   "metadata": {},
   "outputs": [
    {
     "name": "stdout",
     "output_type": "stream",
     "text": [
      "Cheer Loudly\n",
      "Fintech\n",
      "Money\n"
     ]
    }
   ],
   "source": [
    "#lists are iterable\n",
    "for i in cheer:\n",
    "    print(i)"
   ]
  },
  {
   "cell_type": "code",
   "execution_count": 8,
   "id": "cb59b4fc-81b1-4c95-ad49-e3af4802ac6a",
   "metadata": {},
   "outputs": [
    {
     "name": "stdout",
     "output_type": "stream",
     "text": [
      "C\n",
      "h\n",
      "e\n",
      "e\n",
      "r\n",
      " \n",
      "L\n",
      "o\n",
      "u\n",
      "d\n",
      "l\n",
      "y\n"
     ]
    }
   ],
   "source": [
    "for l in cheer[0]:\n",
    "    print (l)"
   ]
  },
  {
   "cell_type": "code",
   "execution_count": 9,
   "id": "5c2944bf-3ce5-4292-abf8-d118f0a18d3b",
   "metadata": {},
   "outputs": [
    {
     "name": "stdout",
     "output_type": "stream",
     "text": [
      "Creating a list of Pokemon...\n",
      "['Pikachu', 'Charizard', 'Bulbasaur', 'Gyarados', 'Dragonite', 'Onyx']\n",
      "\n"
     ]
    }
   ],
   "source": [
    "# Create a list of Pokemon\n",
    "print(\"Creating a list of Pokemon...\")\n",
    "pokemon = [\"Pikachu\", \"Charizard\", \"Bulbasaur\", \"Gyarados\", \"Dragonite\", \"Onyx\"]\n",
    "print(pokemon)\n",
    "print()"
   ]
  },
  {
   "cell_type": "code",
   "execution_count": null,
   "id": "9a6866eb-c66a-4c39-bc4e-8fd69b5e2935",
   "metadata": {},
   "outputs": [],
   "source": [
    "my_new_list = [1, 2, 3, 'Hello', []]"
   ]
  }
 ],
 "metadata": {
  "kernelspec": {
   "display_name": "Python 3",
   "language": "python",
   "name": "python3"
  },
  "language_info": {
   "codemirror_mode": {
    "name": "ipython",
    "version": 3
   },
   "file_extension": ".py",
   "mimetype": "text/x-python",
   "name": "python",
   "nbconvert_exporter": "python",
   "pygments_lexer": "ipython3",
   "version": "3.7.10"
  }
 },
 "nbformat": 4,
 "nbformat_minor": 5
}
