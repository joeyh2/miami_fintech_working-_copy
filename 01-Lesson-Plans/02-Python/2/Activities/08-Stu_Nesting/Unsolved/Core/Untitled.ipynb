{
 "cells": [
  {
   "cell_type": "code",
   "execution_count": 1,
   "id": "b546817a-d10a-498e-80ae-c1d51127a5c9",
   "metadata": {},
   "outputs": [],
   "source": [
    "# -*- coding: utf-8 -*-\n",
    "\"\"\"\n",
    "Student Activity: Weekly Gains.\n",
    "\n",
    "This script showcases how to use nested list/dict objects to\n",
    "calculate weekly gains of stock tickers.\n",
    "\"\"\"\n",
    "\n",
    "# Dictionary of List of Lists\n",
    "# Key: Stock Ticker | Value: List of Records\n",
    "# Record: Date, Open, High, Low, Close\n",
    "historical_stock_data = {\n",
    "    \"AAPL\": [\n",
    "        [\"04-17-2019\", 199.54, 203.38, 198.61, 203.13],\n",
    "        [\"04-18-2019\", 199.46, 201.37, 198.56, 199.25],\n",
    "        [\"04-19-2019\", 198.58, 199.85, 198.01, 199.23],\n",
    "        [\"04-20-2019\", 199.20, 200.14, 196.21, 198.87],\n",
    "\n",
    "    ],\n",
    "    \"MU\": [\n",
    "        [\"04-17-2019\", 43.20, 43.53, 42.79, 43.40],\n",
    "        [\"04-18-2019\", 43.36, 44.05, 42.76, 43.15],\n",
    "        [\"04-19-2019\", 42.26, 42.93, 42.08, 42.76],\n",
    "        [\"04-20-2019\", 42.17, 42.23, 41.20, 41.82],\n",
    "\n",
    "    ],\n",
    "    \"AMD\": [\n",
    "        [\"04-17-2019\", 27.60, 27.88, 27.34, 27.68],\n",
    "        [\"04-18-2019\", 28.21, 28.27, 27.22, 27.49],\n",
    "        [\"04-19-2019\", 27.72, 28.18, 27.49, 27.93],\n",
    "        [\"04-20-2019\", 27.80, 27.84, 26.96, 27.33],\n",
    "\n",
    "    ],\n",
    "    \"TWTR\": [\n",
    "        [\"04-17-2019\", 34.67, 34.86, 34.32, 34.40],\n",
    "        [\"04-18-2019\", 34.73, 34.90, 34.20, 34.48],\n",
    "        [\"04-19-2019\", 34.84, 34.99, 34.23, 34.46],\n",
    "        [\"04-20-2019\", 34.38, 35.03, 34.34, 34.71],\n",
    "\n",
    "    ]\n",
    "}\n",
    "\n",
    "# Dictionary of Dictionary\n",
    "# Key: Stock Ticker | Value: Dictionary\n",
    "new_records = {\n",
    "    \"AAPL\": {\n",
    "        \"date\": \"04-21-2019\",\n",
    "        \"open\": 200.85,\n",
    "        \"high\": 201.00,\n",
    "        \"low\": 198.44,\n",
    "        \"close\": 198.95\n",
    "    },\n",
    "    \"MU\": {\n",
    "        \"date\": \"04-21-2019\",\n",
    "        \"open\": 42.85,\n",
    "        \"high\": 43.20,\n",
    "        \"low\": 41.81,\n",
    "        \"close\": 42.01\n",
    "    },\n",
    "    \"AMD\": {\n",
    "        \"date\": \"04-21-2019\",\n",
    "        \"open\": 28.21,\n",
    "        \"high\": 28.38,\n",
    "        \"low\": 27.66,\n",
    "        \"close\": 27.85\n",
    "    },\n",
    "    \"TWTR\": {\n",
    "        \"date\": \"04-21-2019\",\n",
    "        \"open\": 34.67,\n",
    "        \"high\": 34.83,\n",
    "        \"low\": 34.11,\n",
    "        \"close\": 34.37\n",
    "    }\n",
    "}\n"
   ]
  },
  {
   "cell_type": "code",
   "execution_count": 12,
   "id": "21db8d21-b7e1-412a-a493-dc0192cbb906",
   "metadata": {},
   "outputs": [
    {
     "data": {
      "text/plain": [
       "['04-21-2019', 200.85, 201.0, 198.44, 198.95]"
      ]
     },
     "execution_count": 12,
     "metadata": {},
     "output_type": "execute_result"
    }
   ],
   "source": [
    "# @TODO: Set each ticker's new record: date, open, high, low, close\n",
    "apple_list = [new_records['AAPL']['date'], new_records['AAPL']['open'], new_records['AAPL']['high'], new_records['AAPL']['low'], new_records['AAPL']['close']] \n",
    "apple_list"
   ]
  },
  {
   "cell_type": "code",
   "execution_count": 11,
   "id": "35613244-80f0-493a-b0f3-44224849059e",
   "metadata": {},
   "outputs": [
    {
     "data": {
      "text/plain": [
       "['04-21-2019', 42.85, 43.2, 41.81, 42.01]"
      ]
     },
     "execution_count": 11,
     "metadata": {},
     "output_type": "execute_result"
    }
   ],
   "source": [
    "mu_list = [new_records['MU']['date'], new_records['MU']['open'], new_records['MU']['high'], new_records['MU']['low'], new_records['MU']['close']]\n",
    "mu_list"
   ]
  },
  {
   "cell_type": "code",
   "execution_count": 13,
   "id": "a602d05f-3343-4072-9fae-eda234716169",
   "metadata": {},
   "outputs": [
    {
     "data": {
      "text/plain": [
       "['04-21-2019', 28.21, 28.38, 27.66, 27.85]"
      ]
     },
     "execution_count": 13,
     "metadata": {},
     "output_type": "execute_result"
    }
   ],
   "source": [
    "amd_list = [new_records['AMD']['date'], new_records['AMD']['open'], new_records['AMD']['high'], new_records['AMD']['low'], new_records['AMD']['close']]\n",
    "amd_list"
   ]
  },
  {
   "cell_type": "code",
   "execution_count": 14,
   "id": "a0cee70d-dbe6-4600-8cad-87688ae7c73e",
   "metadata": {},
   "outputs": [
    {
     "data": {
      "text/plain": [
       "['04-21-2019', 34.67, 34.83, 34.11, 34.37]"
      ]
     },
     "execution_count": 14,
     "metadata": {},
     "output_type": "execute_result"
    }
   ],
   "source": [
    "twtr_list = [new_records['TWTR']['date'], new_records['TWTR']['open'], new_records['TWTR']['high'], new_records['TWTR']['low'], new_records['TWTR']['close']]\n",
    "twtr_list"
   ]
  },
  {
   "cell_type": "code",
   "execution_count": 18,
   "id": "fb5819e8-c602-4551-a659-3d81b903fc05",
   "metadata": {},
   "outputs": [],
   "source": [
    "# @TODO: Choice 1: Add a new round of entries to the 'historical_stock_data' dictionary\n",
    "\n",
    "historical_stock_data[\"AAPL\"].append(apple_list)\n",
    "historical_stock_data[\"MU\"].append(mu_list)\n",
    "historical_stock_data[\"AMD\"].append(amd_list)\n",
    "historical_stock_data[\"TWTR\"].append(twtr_list)"
   ]
  },
  {
   "cell_type": "code",
   "execution_count": 19,
   "id": "58306773-4bf6-49db-b7a8-b7cc6a4126a0",
   "metadata": {},
   "outputs": [
    {
     "data": {
      "text/plain": [
       "{'AAPL': [['04-17-2019', 199.54, 203.38, 198.61, 203.13],\n",
       "  ['04-18-2019', 199.46, 201.37, 198.56, 199.25],\n",
       "  ['04-19-2019', 198.58, 199.85, 198.01, 199.23],\n",
       "  ['04-20-2019', 199.2, 200.14, 196.21, 198.87],\n",
       "  ['04-21-2019', 200.85, 201.0, 198.44, 198.95],\n",
       "  ['04-21-2019', 200.85, 201.0, 198.44, 198.95]],\n",
       " 'MU': [['04-17-2019', 43.2, 43.53, 42.79, 43.4],\n",
       "  ['04-18-2019', 43.36, 44.05, 42.76, 43.15],\n",
       "  ['04-19-2019', 42.26, 42.93, 42.08, 42.76],\n",
       "  ['04-20-2019', 42.17, 42.23, 41.2, 41.82],\n",
       "  ['04-21-2019', 42.85, 43.2, 41.81, 42.01]],\n",
       " 'AMD': [['04-17-2019', 27.6, 27.88, 27.34, 27.68],\n",
       "  ['04-18-2019', 28.21, 28.27, 27.22, 27.49],\n",
       "  ['04-19-2019', 27.72, 28.18, 27.49, 27.93],\n",
       "  ['04-20-2019', 27.8, 27.84, 26.96, 27.33],\n",
       "  ['04-21-2019', 28.21, 28.38, 27.66, 27.85]],\n",
       " 'TWTR': [['04-17-2019', 34.67, 34.86, 34.32, 34.4],\n",
       "  ['04-18-2019', 34.73, 34.9, 34.2, 34.48],\n",
       "  ['04-19-2019', 34.84, 34.99, 34.23, 34.46],\n",
       "  ['04-20-2019', 34.38, 35.03, 34.34, 34.71],\n",
       "  ['04-21-2019', 34.67, 34.83, 34.11, 34.37]]}"
      ]
     },
     "execution_count": 19,
     "metadata": {},
     "output_type": "execute_result"
    }
   ],
   "source": [
    "historical_stock_data"
   ]
  },
  {
   "cell_type": "code",
   "execution_count": null,
   "id": "aab1009e-02b3-4070-ac01-054bc11215f1",
   "metadata": {},
   "outputs": [],
   "source": [
    "# Choice 2: Add a new round of entries via for loop to the 'historical_stock_data' dictionary\n",
    "\n",
    "for ticker, ticker_data in new_records.items(): "
   ]
  }
 ],
 "metadata": {
  "kernelspec": {
   "display_name": "Python 3",
   "language": "python",
   "name": "python3"
  },
  "language_info": {
   "codemirror_mode": {
    "name": "ipython",
    "version": 3
   },
   "file_extension": ".py",
   "mimetype": "text/x-python",
   "name": "python",
   "nbconvert_exporter": "python",
   "pygments_lexer": "ipython3",
   "version": "3.7.10"
  }
 },
 "nbformat": 4,
 "nbformat_minor": 5
}
