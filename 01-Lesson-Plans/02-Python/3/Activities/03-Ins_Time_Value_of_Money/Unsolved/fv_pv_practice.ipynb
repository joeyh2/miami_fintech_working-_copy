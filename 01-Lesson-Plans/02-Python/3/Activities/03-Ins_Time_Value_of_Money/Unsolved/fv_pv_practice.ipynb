{
 "cells": [
  {
   "cell_type": "code",
   "execution_count": 12,
   "id": "6c176b50-02da-46db-b18c-3e63201037f8",
   "metadata": {},
   "outputs": [],
   "source": [
    "#FV=(PV)* [1+(i/n)]^(n/t)\n",
    "def future_value(investment,interest,time,compound):\n",
    "    '''func used to calc fv of initial investment\n",
    "    arguments: investment - beginning investment\n",
    "    interest - rate at which money grows\n",
    "    time - number of years\n",
    "    compound - period of compouding interest\n",
    "    '''\n",
    "    future = investment*(1+(interest/compound))**(compound*time)\n",
    "#round function used here\n",
    "    print(f'Your initial investment of {investment} will be worth {round(future,2)} in {time} years')\n",
    "    return round(future,2)"
   ]
  },
  {
   "cell_type": "code",
   "execution_count": 13,
   "id": "8c435d4a-7c33-410c-b509-86755a68de3f",
   "metadata": {},
   "outputs": [
    {
     "name": "stdout",
     "output_type": "stream",
     "text": [
      "Your initial investment of 75000 will be worth 147536.35 in 10 years\n",
      "147536.35\n"
     ]
    }
   ],
   "source": [
    "future_money = future_value(75000, 0.07, 10, 1) \n",
    "print(future_money)"
   ]
  },
  {
   "cell_type": "code",
   "execution_count": null,
   "id": "7de43456-efd4-4620-9c79-03e543cec8fe",
   "metadata": {},
   "outputs": [],
   "source": []
  }
 ],
 "metadata": {
  "kernelspec": {
   "display_name": "Python 3",
   "language": "python",
   "name": "python3"
  },
  "language_info": {
   "codemirror_mode": {
    "name": "ipython",
    "version": 3
   },
   "file_extension": ".py",
   "mimetype": "text/x-python",
   "name": "python",
   "nbconvert_exporter": "python",
   "pygments_lexer": "ipython3",
   "version": "3.7.10"
  }
 },
 "nbformat": 4,
 "nbformat_minor": 5
}
