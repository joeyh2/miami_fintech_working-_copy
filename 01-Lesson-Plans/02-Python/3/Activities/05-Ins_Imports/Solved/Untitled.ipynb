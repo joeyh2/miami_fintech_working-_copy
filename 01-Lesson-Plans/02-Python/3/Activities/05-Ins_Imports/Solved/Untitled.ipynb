{
 "cells": [
  {
   "cell_type": "code",
   "execution_count": 2,
   "id": "f235808c-abff-4978-a558-e0f4649e624e",
   "metadata": {},
   "outputs": [],
   "source": [
    "import functions"
   ]
  },
  {
   "cell_type": "code",
   "execution_count": 5,
   "id": "586a56bc-cf2f-4871-ba1e-53343e14daec",
   "metadata": {},
   "outputs": [
    {
     "name": "stdout",
     "output_type": "stream",
     "text": [
      "hello!\n"
     ]
    }
   ],
   "source": [
    "functions.print_hello()"
   ]
  },
  {
   "cell_type": "code",
   "execution_count": 6,
   "id": "b8e7a5e1-071c-4f1a-a845-2279d656d708",
   "metadata": {},
   "outputs": [
    {
     "name": "stdout",
     "output_type": "stream",
     "text": [
      "goodbye!\n"
     ]
    }
   ],
   "source": [
    "functions.print_goodbye()"
   ]
  },
  {
   "cell_type": "code",
   "execution_count": 11,
   "id": "b57782c9-6322-4cb6-85e6-d5482b32dfa3",
   "metadata": {},
   "outputs": [],
   "source": [
    "from functions import print_hello, print_goodbye"
   ]
  },
  {
   "cell_type": "code",
   "execution_count": 10,
   "id": "1767b786-74ab-4575-a4a3-428c37273e77",
   "metadata": {},
   "outputs": [
    {
     "name": "stdout",
     "output_type": "stream",
     "text": [
      "hello!\n"
     ]
    }
   ],
   "source": [
    "print_hello()"
   ]
  },
  {
   "cell_type": "code",
   "execution_count": 12,
   "id": "964c9906-5b7b-4141-8e2f-2ec6be9ef777",
   "metadata": {},
   "outputs": [
    {
     "name": "stdout",
     "output_type": "stream",
     "text": [
      "goodbye!\n"
     ]
    }
   ],
   "source": [
    "print_goodbye()"
   ]
  },
  {
   "cell_type": "code",
   "execution_count": 13,
   "id": "c135e699-8558-40c3-b5e0-5aba381bdb97",
   "metadata": {},
   "outputs": [],
   "source": [
    "import numpy_financial as npf"
   ]
  },
  {
   "cell_type": "code",
   "execution_count": 14,
   "id": "c17e8b0a-3bf4-496f-ab87-120932d3ca43",
   "metadata": {},
   "outputs": [],
   "source": [
    "interest_rate = .1\n",
    "cash_flows = [-1000, 400, 400, 400, 400]"
   ]
  },
  {
   "cell_type": "code",
   "execution_count": 15,
   "id": "e004428b-dfaf-40ad-93e1-e53dbc7ed3aa",
   "metadata": {},
   "outputs": [
    {
     "data": {
      "text/plain": [
       "267.94617853971704"
      ]
     },
     "execution_count": 15,
     "metadata": {},
     "output_type": "execute_result"
    }
   ],
   "source": [
    "#numpy financial net present value\n",
    "npf.npv(interest_rate, cash_flows)"
   ]
  },
  {
   "cell_type": "code",
   "execution_count": 17,
   "id": "d1ab56e1-5d86-400c-927a-8a0a620f503c",
   "metadata": {},
   "outputs": [],
   "source": [
    "net_present_value = npf.npv(interest_rate, cash_flows)"
   ]
  },
  {
   "cell_type": "code",
   "execution_count": 18,
   "id": "153c9e7e-96bb-4c1c-b2ec-5a10941f5666",
   "metadata": {},
   "outputs": [
    {
     "name": "stdout",
     "output_type": "stream",
     "text": [
      "267.95\n"
     ]
    }
   ],
   "source": [
    "print(round(net_present_value, 2))"
   ]
  },
  {
   "cell_type": "code",
   "execution_count": null,
   "id": "fe995b10-69f3-4d21-acca-c4fbf925bde1",
   "metadata": {},
   "outputs": [],
   "source": []
  }
 ],
 "metadata": {
  "kernelspec": {
   "display_name": "Python 3",
   "language": "python",
   "name": "python3"
  },
  "language_info": {
   "codemirror_mode": {
    "name": "ipython",
    "version": 3
   },
   "file_extension": ".py",
   "mimetype": "text/x-python",
   "name": "python",
   "nbconvert_exporter": "python",
   "pygments_lexer": "ipython3",
   "version": "3.7.10"
  }
 },
 "nbformat": 4,
 "nbformat_minor": 5
}
