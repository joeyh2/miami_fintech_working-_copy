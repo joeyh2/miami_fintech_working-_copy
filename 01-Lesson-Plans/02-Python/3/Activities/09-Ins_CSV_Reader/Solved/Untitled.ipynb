{
 "cells": [
  {
   "cell_type": "code",
   "execution_count": 1,
   "id": "06683038-a7ba-4b29-ad99-45e902641da2",
   "metadata": {},
   "outputs": [],
   "source": [
    "from pathlib import Path\n",
    "import csv"
   ]
  },
  {
   "cell_type": "code",
   "execution_count": 2,
   "id": "2994fae7-b81e-4805-9a20-13aab40a6081",
   "metadata": {},
   "outputs": [],
   "source": [
    "filepath = Path(\"../Resources/accounting.csv\")"
   ]
  },
  {
   "cell_type": "code",
   "execution_count": 3,
   "id": "a6517865-5683-490d-85c9-a9d873d430e0",
   "metadata": {},
   "outputs": [],
   "source": [
    "salaries = []"
   ]
  },
  {
   "cell_type": "code",
   "execution_count": 5,
   "id": "db8deedf-b29a-4e9f-8099-42026f648a98",
   "metadata": {},
   "outputs": [
    {
     "name": "stdout",
     "output_type": "stream",
     "text": [
      "<class '_io.TextIOWrapper'>\n",
      "First Name,Last Name,SSN,Salary\n",
      "Tina,Fleming,619-16-7988,75000\n",
      "Erica,Shah,164-51-7615,40000\n",
      "Paula,Ortiz,051-83-3290,120000\n",
      "James,Hendricks,776-83-2884,90000\n",
      "Lauren,King,197-94-2398,60000\n",
      "David,Cowan,252-92-1832,35000\n",
      "Andrew,Burton,296-23-6842,150000\n",
      "Julian,Baker,337-40-7543,75000\n",
      "Scott,Castro,399-46-5595,50000\n",
      "Billy,Rodriguez,014-18-2503,65000\n",
      "Darrell,Leblanc,005-82-7918,40000\n",
      "David,Hammond,561-17-6312,90000\n"
     ]
    }
   ],
   "source": [
    "with open(filepath,\"r\") as file:\n",
    "    print(type(file))\n",
    "    text = file.read()\n",
    "    print(text)"
   ]
  },
  {
   "cell_type": "code",
   "execution_count": 17,
   "id": "4f3aaeaf-756f-4ea5-90ec-f3a36f140ea8",
   "metadata": {},
   "outputs": [
    {
     "name": "stdout",
     "output_type": "stream",
     "text": [
      "['First Name', 'Last Name', 'SSN', 'Salary']\n",
      "............................................\n",
      "75000\n",
      "40000\n",
      "120000\n",
      "90000\n",
      "60000\n",
      "35000\n",
      "150000\n",
      "75000\n",
      "50000\n",
      "65000\n",
      "40000\n",
      "90000\n"
     ]
    }
   ],
   "source": [
    "with open(filepath,\"r\") as file:\n",
    "    csvreader=csv.reader(file, delimiter=\",\")\n",
    "    header = next(csvreader)\n",
    "    print(header)\n",
    "    print('............................................')\n",
    "    for row in csvreader:\n",
    "        print (row[3])\n",
    "        salaries.append(int(row[3]))"
   ]
  },
  {
   "cell_type": "code",
   "execution_count": 18,
   "id": "dfbaec5f-9030-46af-92dd-538d39a42d20",
   "metadata": {},
   "outputs": [
    {
     "data": {
      "text/plain": [
       "['75000',\n",
       " '40000',\n",
       " '120000',\n",
       " '90000',\n",
       " '60000',\n",
       " '35000',\n",
       " '150000',\n",
       " '75000',\n",
       " '50000',\n",
       " '65000',\n",
       " '40000',\n",
       " '90000',\n",
       " 75000,\n",
       " 40000,\n",
       " 120000,\n",
       " 90000,\n",
       " 60000,\n",
       " 35000,\n",
       " 150000,\n",
       " 75000,\n",
       " 50000,\n",
       " 65000,\n",
       " 40000,\n",
       " 90000]"
      ]
     },
     "execution_count": 18,
     "metadata": {},
     "output_type": "execute_result"
    }
   ],
   "source": [
    "salaries"
   ]
  },
  {
   "cell_type": "code",
   "execution_count": null,
   "id": "fb8a9a7f-d848-450f-9aaf-a1a5b5bd7b6b",
   "metadata": {},
   "outputs": [],
   "source": []
  }
 ],
 "metadata": {
  "kernelspec": {
   "display_name": "Python 3",
   "language": "python",
   "name": "python3"
  },
  "language_info": {
   "codemirror_mode": {
    "name": "ipython",
    "version": 3
   },
   "file_extension": ".py",
   "mimetype": "text/x-python",
   "name": "python",
   "nbconvert_exporter": "python",
   "pygments_lexer": "ipython3",
   "version": "3.7.10"
  }
 },
 "nbformat": 4,
 "nbformat_minor": 5
}
