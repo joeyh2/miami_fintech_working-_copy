{
 "cells": [
  {
   "cell_type": "code",
   "execution_count": 3,
   "id": "6991791f-eccd-4b0f-8247-67da1dd56d38",
   "metadata": {},
   "outputs": [],
   "source": [
    "my_int = 23\n",
    "my_float = 60"
   ]
  },
  {
   "cell_type": "code",
   "execution_count": 4,
   "id": "df48b0c9-62b1-4582-b903-9ba7503f3294",
   "metadata": {},
   "outputs": [
    {
     "name": "stdout",
     "output_type": "stream",
     "text": [
      "made it here\n"
     ]
    }
   ],
   "source": [
    "if my_int>30:\n",
    "    print(\"I'm old\")\n",
    "elif my_float> 65:\n",
    "    print(\"I'm Rich\")\n",
    "else:\n",
    "    print(\"made it here\")\n",
    "    "
   ]
  },
  {
   "cell_type": "code",
   "execution_count": 5,
   "id": "2e867d89-e140-48d2-9da0-be2d602cdcd3",
   "metadata": {},
   "outputs": [
    {
     "data": {
      "text/plain": [
       "'World'"
      ]
     },
     "execution_count": 5,
     "metadata": {},
     "output_type": "execute_result"
    }
   ],
   "source": [
    "my_list = [1, \"A\", \"bob\", ['Hello', 'World']]\n",
    "my_list[3][1]"
   ]
  },
  {
   "cell_type": "code",
   "execution_count": 6,
   "id": "44e1cec2-4bdb-41ad-a757-5786de2dc0f1",
   "metadata": {},
   "outputs": [
    {
     "name": "stdout",
     "output_type": "stream",
     "text": [
      "1\n",
      "A\n",
      "bob\n",
      "['Hello', 'World']\n"
     ]
    }
   ],
   "source": [
    "#Iterating with for loops\n",
    "#iterables are: lists, strings, dictionaries*, tuples, sets \n",
    "for i in my_list:\n",
    "    print(i)"
   ]
  },
  {
   "cell_type": "code",
   "execution_count": 7,
   "id": "9c556546-7c02-4384-b89c-809bede3de70",
   "metadata": {},
   "outputs": [],
   "source": [
    "#Dictionary - collection of key value pairs\n",
    "trading_pnl = {\n",
    "      \"title\": \"Trading Log\",\n",
    "      \"03-18-2019\": -224,\n",
    "      \"03-19-2019\": 352,\n",
    "      \"03-20-2019\": 252,\n",
    "      \"03-21-2019\": 354,\n",
    "      \"03-22-2019\": -544,\n",
    "      \"03-23-2019\": -650,\n",
    "      \"03-24-2019\": 56,\n",
    "      \"03-25-2019\": 123,\n",
    "      \"03-26-2019\": -43,\n",
    "      \"03-27-2019\": 254,\n",
    "      \"03-28-2019\": 325,\n",
    "      \"03-29-2019\": -123,\n",
    "      \"03-30-2019\": 47,\n",
    "      \"03-31-2019\": 321,\n",
    "      \"04-01-2019\": 123,\n",
    "      \"04-02-2019\": 133,\n",
    "      \"04-03-2019\": -151,\n",
    "      \"04-04-2019\": 613,\n",
    "      \"04-05-2019\": 232,\n",
    "      \"04-06-2019\": -311\n",
    "  }"
   ]
  },
  {
   "cell_type": "code",
   "execution_count": 8,
   "id": "47a89578-3758-412c-b124-5c4cccf34a02",
   "metadata": {},
   "outputs": [
    {
     "data": {
      "text/plain": [
       "'Trading Log'"
      ]
     },
     "execution_count": 8,
     "metadata": {},
     "output_type": "execute_result"
    }
   ],
   "source": [
    "#Calling a value\n",
    "trading_pnl[\"title\"]"
   ]
  },
  {
   "cell_type": "code",
   "execution_count": 13,
   "id": "d560e165-8938-4b68-889d-3a694cf1ce63",
   "metadata": {},
   "outputs": [
    {
     "name": "stdout",
     "output_type": "stream",
     "text": [
      "Trading Log\n",
      "-224\n",
      "352\n",
      "252\n",
      "354\n",
      "-544\n",
      "-650\n",
      "56\n",
      "123\n",
      "-43\n",
      "254\n",
      "325\n",
      "-123\n",
      "47\n",
      "321\n",
      "123\n",
      "133\n",
      "-151\n",
      "613\n",
      "232\n",
      "-311\n"
     ]
    }
   ],
   "source": [
    "#Must call .values() to loop through values, and .items() for keys\n",
    "for i in trading_pnl.values():\n",
    "    print(i)"
   ]
  },
  {
   "cell_type": "code",
   "execution_count": 23,
   "id": "3c17fe9e-978c-4856-a621-18bf33434d12",
   "metadata": {},
   "outputs": [
    {
     "name": "stdout",
     "output_type": "stream",
     "text": [
      "title Trading Log\n",
      "03-18-2019 -224\n",
      "03-19-2019 352\n",
      "03-20-2019 252\n",
      "03-21-2019 354\n",
      "03-22-2019 -544\n",
      "03-23-2019 -650\n",
      "03-24-2019 56\n",
      "03-25-2019 123\n",
      "03-26-2019 -43\n",
      "03-27-2019 254\n",
      "03-28-2019 325\n",
      "03-29-2019 -123\n",
      "03-30-2019 47\n",
      "03-31-2019 321\n",
      "04-01-2019 123\n",
      "04-02-2019 133\n",
      "04-03-2019 -151\n",
      "04-04-2019 613\n",
      "04-05-2019 232\n",
      "04-06-2019 -311\n"
     ]
    }
   ],
   "source": [
    "for k, v in trading_pnl.items():\n",
    "    print(k, v)"
   ]
  },
  {
   "cell_type": "code",
   "execution_count": 25,
   "id": "0a1b74eb-3b23-489d-afca-5ddb5aedfd86",
   "metadata": {},
   "outputs": [
    {
     "name": "stdout",
     "output_type": "stream",
     "text": [
      "MSFT is up 10% on the day\n"
     ]
    }
   ],
   "source": [
    "def stock_ticker(ticker, percent):\n",
    "    print(f'{ticker} is up {percent}% on the day')\n",
    "stock_ticker(\"MSFT\", 10)"
   ]
  },
  {
   "cell_type": "code",
   "execution_count": null,
   "id": "1d862726-bc81-4b8c-bbfc-70395504cf7d",
   "metadata": {},
   "outputs": [],
   "source": []
  }
 ],
 "metadata": {
  "kernelspec": {
   "display_name": "Python 3",
   "language": "python",
   "name": "python3"
  },
  "language_info": {
   "codemirror_mode": {
    "name": "ipython",
    "version": 3
   },
   "file_extension": ".py",
   "mimetype": "text/x-python",
   "name": "python",
   "nbconvert_exporter": "python",
   "pygments_lexer": "ipython3",
   "version": "3.7.10"
  }
 },
 "nbformat": 4,
 "nbformat_minor": 5
}
