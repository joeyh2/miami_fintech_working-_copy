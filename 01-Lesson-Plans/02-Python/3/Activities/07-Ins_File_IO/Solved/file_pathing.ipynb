{
 "cells": [
  {
   "cell_type": "code",
   "execution_count": 1,
   "id": "ce961536-7c30-4305-81ef-2e32d75fc804",
   "metadata": {},
   "outputs": [],
   "source": [
    "from pathlib import Path"
   ]
  },
  {
   "cell_type": "code",
   "execution_count": 3,
   "id": "52fb4e52-e595-4928-86ba-394d51ca3b33",
   "metadata": {},
   "outputs": [
    {
     "data": {
      "text/plain": [
       "PosixPath('/Users/joseph/Desktop/FinTech/miami_fintech_working_copy/01-Lesson-Plans/02-Python/3/Activities/07-Ins_File_IO/Solved')"
      ]
     },
     "execution_count": 3,
     "metadata": {},
     "output_type": "execute_result"
    }
   ],
   "source": [
    "#cwd = current working directory == Linux pwd\n",
    "Path.cwd()"
   ]
  },
  {
   "cell_type": "code",
   "execution_count": 4,
   "id": "85b57222-2d6b-49fa-8bb2-e4dcb638f81b",
   "metadata": {},
   "outputs": [],
   "source": [
    "#relative pathing ../../01-Ins_Refresher\n",
    "#absolute pathing C:Users/joseph...etc."
   ]
  },
  {
   "cell_type": "code",
   "execution_count": 15,
   "id": "4b57069b-f131-4b31-9086-169e68912c43",
   "metadata": {},
   "outputs": [],
   "source": [
    "filepath = Path(\"../Resources/input.txt\")"
   ]
  },
  {
   "cell_type": "code",
   "execution_count": 20,
   "id": "f9fe4709-40a5-4866-aa9b-4db89ea63231",
   "metadata": {},
   "outputs": [
    {
     "name": "stdout",
     "output_type": "stream",
     "text": [
      "<class '_io.TextIOWrapper'>\n",
      "1 List of Best Actors:\n",
      "\n",
      "2 Nicolas Cage\n",
      "\n",
      "3 Betty White\n",
      "\n",
      "4 Gary Busey\n"
     ]
    }
   ],
   "source": [
    "with open(filepath, \"r\") as file: \n",
    "    print(type(file))\n",
    "    #text = file.read()\n",
    "    #print(text)\n",
    "    \n",
    "    line_number=1\n",
    "    for line in file:\n",
    "        print(line_number, line)\n",
    "        line_number+=1"
   ]
  },
  {
   "cell_type": "code",
   "execution_count": 17,
   "id": "accc5968-3f01-44c2-ab20-b023430f5993",
   "metadata": {},
   "outputs": [],
   "source": [
    "output_path = Path(\"writing_file.txt\")\n",
    "with open (output_path, \"w\") as f:\n",
    "    f.write(\"This is an output file \\n\")\n",
    "    f.write(\"X\")"
   ]
  },
  {
   "cell_type": "code",
   "execution_count": 19,
   "id": "7b4457bc-8ed3-4ed7-817f-593b712a394f",
   "metadata": {},
   "outputs": [
    {
     "data": {
      "text/plain": [
       "pathlib.PosixPath"
      ]
     },
     "execution_count": 19,
     "metadata": {},
     "output_type": "execute_result"
    }
   ],
   "source": [
    "type(output_path)"
   ]
  },
  {
   "cell_type": "code",
   "execution_count": null,
   "id": "5c277e83-b774-4def-9b94-43985b34b972",
   "metadata": {},
   "outputs": [],
   "source": []
  }
 ],
 "metadata": {
  "kernelspec": {
   "display_name": "Python 3",
   "language": "python",
   "name": "python3"
  },
  "language_info": {
   "codemirror_mode": {
    "name": "ipython",
    "version": 3
   },
   "file_extension": ".py",
   "mimetype": "text/x-python",
   "name": "python",
   "nbconvert_exporter": "python",
   "pygments_lexer": "ipython3",
   "version": "3.7.10"
  }
 },
 "nbformat": 4,
 "nbformat_minor": 5
}
