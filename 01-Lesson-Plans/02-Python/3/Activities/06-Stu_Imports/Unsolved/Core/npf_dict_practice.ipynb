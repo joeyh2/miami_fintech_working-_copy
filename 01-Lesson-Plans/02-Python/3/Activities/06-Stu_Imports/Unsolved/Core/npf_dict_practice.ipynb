{
 "cells": [
  {
   "cell_type": "code",
   "execution_count": 3,
   "id": "d22ccf73-c285-4360-896b-6e8a07275ce6",
   "metadata": {},
   "outputs": [],
   "source": [
    "# @TODO: Import the NumPy Financial (numpy_financial) library\n",
    "import numpy_financial as np\n",
    "# @TODO: You may need to run `pip install numpy-financial` in your terminal to install the library\n",
    "\n",
    "# Discount Rate\n",
    "discount_rate = .1\n",
    "\n",
    "# Initial Investment, Cash Flow 1, Cash Flow 2, Cash Flow 3, Cash Flow 4\n",
    "cash_flows_conservative = [-1000, 400, 400, 400, 400]\n",
    "cash_flows_neutral = [-1500, 600, 600, 600, 600]\n",
    "cash_flows_aggressive = [-2250, 800, 800, 800, 800]\n",
    "\n",
    "# @TODO: Initialize dictionary to hold NPV return values\n",
    "npv_dict = {}\n",
    "\n",
    "# @TODO: Calculate the NPV for each scenario\n",
    "\n",
    "# @TODO: Manually Choose the project with the highest NPV value"
   ]
  },
  {
   "cell_type": "code",
   "execution_count": 4,
   "id": "5f950870-670f-4112-bb4f-5832e55e0537",
   "metadata": {},
   "outputs": [
    {
     "name": "stdout",
     "output_type": "stream",
     "text": [
      "267.94617853971704\n"
     ]
    }
   ],
   "source": [
    "cons_npv = np.npv(.1, cash_flows_conservative)\n",
    "print(cons_npv)"
   ]
  },
  {
   "cell_type": "code",
   "execution_count": 5,
   "id": "0a87b041-e3b5-4e14-bd7a-c339001f2a58",
   "metadata": {},
   "outputs": [
    {
     "name": "stdout",
     "output_type": "stream",
     "text": [
      "401.91926780957544\n"
     ]
    }
   ],
   "source": [
    "neut_npv = np.npv(.1, cash_flows_neutral)\n",
    "print(neut_npv)"
   ]
  },
  {
   "cell_type": "code",
   "execution_count": 6,
   "id": "a5644217-43a5-4ebc-b026-f60600acafa3",
   "metadata": {},
   "outputs": [
    {
     "name": "stdout",
     "output_type": "stream",
     "text": [
      "285.8923570794341\n"
     ]
    }
   ],
   "source": [
    "agg_npv = np.npv(.1, cash_flows_aggressive)\n",
    "print(agg_npv)"
   ]
  },
  {
   "cell_type": "code",
   "execution_count": 8,
   "id": "c3e4c461-49a4-45e7-8fde-cb5bbcc5eacb",
   "metadata": {},
   "outputs": [],
   "source": [
    "npv_dict = {}"
   ]
  },
  {
   "cell_type": "code",
   "execution_count": 15,
   "id": "428f4d8f-a22c-4f00-b690-42379576cf91",
   "metadata": {},
   "outputs": [
    {
     "data": {
      "text/plain": [
       "267.94617853971704"
      ]
     },
     "execution_count": 15,
     "metadata": {},
     "output_type": "execute_result"
    }
   ],
   "source": [
    "npv_dict[\"cons\"]=cons_npv\n",
    "npv_dict[\"cons\"]"
   ]
  },
  {
   "cell_type": "code",
   "execution_count": 14,
   "id": "02ed8bd2-f303-4a48-af4d-900015d21ce3",
   "metadata": {},
   "outputs": [
    {
     "data": {
      "text/plain": [
       "401.91926780957544"
      ]
     },
     "execution_count": 14,
     "metadata": {},
     "output_type": "execute_result"
    }
   ],
   "source": [
    "npv_dict[\"neut\"]=neut_npv\n",
    "npv_dict[\"neut\"]"
   ]
  },
  {
   "cell_type": "code",
   "execution_count": 16,
   "id": "1ec77b9c-3546-4e4a-a9af-3cb8562d88a5",
   "metadata": {},
   "outputs": [
    {
     "data": {
      "text/plain": [
       "285.8923570794341"
      ]
     },
     "execution_count": 16,
     "metadata": {},
     "output_type": "execute_result"
    }
   ],
   "source": [
    "npv_dict[\"agg\"]=agg_npv\n",
    "npv_dict[\"agg\"]"
   ]
  },
  {
   "cell_type": "code",
   "execution_count": 17,
   "id": "df99b671-6f0c-4590-b839-a210a9ed5d1b",
   "metadata": {},
   "outputs": [
    {
     "data": {
      "text/plain": [
       "{'cons': 267.94617853971704,\n",
       " 'neut': 401.91926780957544,\n",
       " 'agg': 285.8923570794341}"
      ]
     },
     "execution_count": 17,
     "metadata": {},
     "output_type": "execute_result"
    }
   ],
   "source": [
    "npv_dict"
   ]
  },
  {
   "cell_type": "code",
   "execution_count": 18,
   "id": "f3f127af-9783-45a5-b821-d8090fe6548d",
   "metadata": {},
   "outputs": [],
   "source": [
    "new_var = npv_dict.values()"
   ]
  },
  {
   "cell_type": "code",
   "execution_count": 20,
   "id": "da78f4fb-f662-43e8-a570-09dffffe4984",
   "metadata": {},
   "outputs": [
    {
     "name": "stdout",
     "output_type": "stream",
     "text": [
      "dict_values([267.94617853971704, 401.91926780957544, 285.8923570794341])\n"
     ]
    }
   ],
   "source": [
    "print(new_var)"
   ]
  },
  {
   "cell_type": "code",
   "execution_count": 40,
   "id": "8b39817c-7884-411c-91ff-08c711aa302a",
   "metadata": {},
   "outputs": [],
   "source": [
    "#new_var = max(npv_dict), str(max(npv_dict.values()))\n",
    "#new_var"
   ]
  },
  {
   "cell_type": "code",
   "execution_count": 42,
   "id": "6d45a0f1-9bb5-4e7a-bda7-a99e48c6286d",
   "metadata": {},
   "outputs": [
    {
     "name": "stdout",
     "output_type": "stream",
     "text": [
      "neut 401.91926780957544\n"
     ]
    }
   ],
   "source": [
    "max_value = 0\n",
    "max_key = \"\"\n",
    "for k,v in npv_dict.items():\n",
    "    if v> max_value:\n",
    "        max_value=v\n",
    "        max_key=k\n",
    "print(max_key,max_value)"
   ]
  },
  {
   "cell_type": "code",
   "execution_count": null,
   "id": "d15d9eb2-432c-4e53-a6ed-3a26d4f36673",
   "metadata": {},
   "outputs": [],
   "source": []
  }
 ],
 "metadata": {
  "kernelspec": {
   "display_name": "Python 3",
   "language": "python",
   "name": "python3"
  },
  "language_info": {
   "codemirror_mode": {
    "name": "ipython",
    "version": 3
   },
   "file_extension": ".py",
   "mimetype": "text/x-python",
   "name": "python",
   "nbconvert_exporter": "python",
   "pygments_lexer": "ipython3",
   "version": "3.7.10"
  }
 },
 "nbformat": 4,
 "nbformat_minor": 5
}
