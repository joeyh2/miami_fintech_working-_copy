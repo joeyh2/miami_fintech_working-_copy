{
 "cells": [
  {
   "cell_type": "code",
   "execution_count": 11,
   "id": "d2753a36-b96d-46cf-82e6-ac753f618d9d",
   "metadata": {},
   "outputs": [
    {
     "name": "stdout",
     "output_type": "stream",
     "text": [
      "hey\n",
      "everybody\n",
      "yell!\n"
     ]
    }
   ],
   "source": [
    "cheer = \"hey\"\n",
    "for letter in cheer:\n",
    "    if letter==\"h\":\n",
    "        print(letter+\"ey\")\n",
    "    if letter==\"e\":\n",
    "        print(letter+\"verybody\")\n",
    "    if letter==\"y\":\n",
    "        print(letter+\"ell!\")\n",
    "    "
   ]
  },
  {
   "cell_type": "code",
   "execution_count": null,
   "id": "badfd064-1ee6-4ad3-a79d-6c377a02fd89",
   "metadata": {},
   "outputs": [],
   "source": []
  }
 ],
 "metadata": {
  "kernelspec": {
   "display_name": "Python 3",
   "language": "python",
   "name": "python3"
  },
  "language_info": {
   "codemirror_mode": {
    "name": "ipython",
    "version": 3
   },
   "file_extension": ".py",
   "mimetype": "text/x-python",
   "name": "python",
   "nbconvert_exporter": "python",
   "pygments_lexer": "ipython3",
   "version": "3.7.10"
  }
 },
 "nbformat": 4,
 "nbformat_minor": 5
}
