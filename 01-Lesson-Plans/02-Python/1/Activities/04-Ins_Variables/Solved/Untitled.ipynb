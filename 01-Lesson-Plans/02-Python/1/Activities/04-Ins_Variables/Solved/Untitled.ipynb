{
 "cells": [
  {
   "cell_type": "code",
   "execution_count": 1,
   "id": "22a106fb-5cb2-407c-bc7a-aa259f39d2be",
   "metadata": {},
   "outputs": [
    {
     "name": "stdout",
     "output_type": "stream",
     "text": [
      "Hello, world!\n"
     ]
    }
   ],
   "source": [
    "print(\"Hello, world!\")"
   ]
  },
  {
   "cell_type": "code",
   "execution_count": 2,
   "id": "8287c1c5-3dc4-4335-a684-30eb4a5e87c5",
   "metadata": {},
   "outputs": [
    {
     "data": {
      "text/plain": [
       "10"
      ]
     },
     "execution_count": 2,
     "metadata": {},
     "output_type": "execute_result"
    }
   ],
   "source": [
    "5 + 5 "
   ]
  },
  {
   "cell_type": "code",
   "execution_count": 3,
   "id": "3a96b4c4-1ffd-4aa9-a1df-6231e320c1fe",
   "metadata": {},
   "outputs": [
    {
     "ename": "SyntaxError",
     "evalue": "invalid syntax (<ipython-input-3-bcf055bc06fe>, line 5)",
     "output_type": "error",
     "traceback": [
      "\u001b[0;36m  File \u001b[0;32m\"<ipython-input-3-bcf055bc06fe>\"\u001b[0;36m, line \u001b[0;32m5\u001b[0m\n\u001b[0;31m    True False #boolean/bool\u001b[0m\n\u001b[0m         ^\u001b[0m\n\u001b[0;31mSyntaxError\u001b[0m\u001b[0;31m:\u001b[0m invalid syntax\n"
     ]
    }
   ],
   "source": [
    "# PYTHON is a dynamically typed language\n",
    "5 # integer\n",
    "\"hello world\" #string\n",
    "3.14 #float\n",
    "True False #boolean/bool"
   ]
  },
  {
   "cell_type": "code",
   "execution_count": 4,
   "id": "11909d2c-9458-4f6e-b877-60cac60f5f0a",
   "metadata": {},
   "outputs": [],
   "source": [
    "my_first_var = \"Joseph\""
   ]
  },
  {
   "cell_type": "code",
   "execution_count": 5,
   "id": "87324ad8-b71e-4f9c-bda4-6a3e74fac188",
   "metadata": {},
   "outputs": [
    {
     "data": {
      "text/plain": [
       "'Joseph'"
      ]
     },
     "execution_count": 5,
     "metadata": {},
     "output_type": "execute_result"
    }
   ],
   "source": [
    "my_first_var"
   ]
  },
  {
   "cell_type": "code",
   "execution_count": 6,
   "id": "e466bda8-b929-4404-92b3-dd4f792e99f3",
   "metadata": {},
   "outputs": [
    {
     "data": {
      "text/plain": [
       "str"
      ]
     },
     "execution_count": 6,
     "metadata": {},
     "output_type": "execute_result"
    }
   ],
   "source": [
    "type(my_first_var)"
   ]
  },
  {
   "cell_type": "code",
   "execution_count": 7,
   "id": "795490c3-3444-4a7d-a152-87ffc2d95622",
   "metadata": {},
   "outputs": [],
   "source": [
    "my_first_var = 3.1"
   ]
  },
  {
   "cell_type": "code",
   "execution_count": 8,
   "id": "cdad745b-d091-4160-bb89-836fa15a9edb",
   "metadata": {},
   "outputs": [
    {
     "name": "stdout",
     "output_type": "stream",
     "text": [
      "<class 'float'>\n",
      "3.1\n"
     ]
    }
   ],
   "source": [
    "print(type(my_first_var))\n",
    "print(my_first_var)"
   ]
  },
  {
   "cell_type": "code",
   "execution_count": 10,
   "id": "c21471fb-cd44-46db-a5ee-4880c2aa5eb2",
   "metadata": {},
   "outputs": [],
   "source": [
    "# Creating Variables\n",
    "title = \"Frankfurter\"\n",
    "years = 23\n",
    "hourly_wage = 65.4\n",
    "expert_status = True"
   ]
  },
  {
   "cell_type": "code",
   "execution_count": 11,
   "id": "7bdcec95-8dc8-4439-852b-18417579c4ce",
   "metadata": {},
   "outputs": [],
   "source": [
    "total_miles = 257\n",
    "gallons_gas = 7.2\n",
    "miles_per_gallon = total_miles / gallons_gas"
   ]
  },
  {
   "cell_type": "code",
   "execution_count": 12,
   "id": "c1c2388f-41c9-4acb-af2a-c586550c937e",
   "metadata": {},
   "outputs": [
    {
     "name": "stdout",
     "output_type": "stream",
     "text": [
      "35.69444444444444\n"
     ]
    }
   ],
   "source": [
    "print(miles_per_gallon)"
   ]
  },
  {
   "cell_type": "code",
   "execution_count": 13,
   "id": "4fa3638e-e641-45e2-8824-2aa01f50c23e",
   "metadata": {},
   "outputs": [
    {
     "ename": "SyntaxError",
     "evalue": "invalid syntax (<ipython-input-13-8e05b2d550a1>, line 1)",
     "output_type": "error",
     "traceback": [
      "\u001b[0;36m  File \u001b[0;32m\"<ipython-input-13-8e05b2d550a1>\"\u001b[0;36m, line \u001b[0;32m1\u001b[0m\n\u001b[0;31m    + # add\u001b[0m\n\u001b[0m      ^\u001b[0m\n\u001b[0;31mSyntaxError\u001b[0m\u001b[0;31m:\u001b[0m invalid syntax\n"
     ]
    }
   ],
   "source": [
    "+ # add\n",
    "- # subtrct\n",
    "* # multiply\n",
    "/ # divide\n",
    "* # to the power of"
   ]
  },
  {
   "cell_type": "code",
   "execution_count": 14,
   "id": "9381ff0d-f4e2-4dd4-8187-e42b22c5bcf6",
   "metadata": {},
   "outputs": [
    {
     "name": "stdout",
     "output_type": "stream",
     "text": [
      "My car gets 35.69444444444444 miles per gallon\n"
     ]
    }
   ],
   "source": [
    "print (f\"My car gets {miles_per_gallon} miles per gallon\")"
   ]
  },
  {
   "cell_type": "code",
   "execution_count": null,
   "id": "e2a5427d-a502-470d-b03f-ea8ad4209176",
   "metadata": {},
   "outputs": [],
   "source": []
  }
 ],
 "metadata": {
  "kernelspec": {
   "display_name": "Python 3",
   "language": "python",
   "name": "python3"
  },
  "language_info": {
   "codemirror_mode": {
    "name": "ipython",
    "version": 3
   },
   "file_extension": ".py",
   "mimetype": "text/x-python",
   "name": "python",
   "nbconvert_exporter": "python",
   "pygments_lexer": "ipython3",
   "version": "3.8.8"
  }
 },
 "nbformat": 4,
 "nbformat_minor": 5
}
