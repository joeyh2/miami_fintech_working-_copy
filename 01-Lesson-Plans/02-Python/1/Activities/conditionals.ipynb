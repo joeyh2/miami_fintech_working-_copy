{
 "cells": [
  {
   "cell_type": "code",
   "execution_count": 7,
   "id": "0ae01ec6-8e95-4638-a5e3-ecd9e4f56022",
   "metadata": {},
   "outputs": [
    {
     "name": "stdout",
     "output_type": "stream",
     "text": [
      "Nothing is true\n"
     ]
    }
   ],
   "source": [
    "#Conditionals \n",
    "#if then statement \n",
    "if 1>3:\n",
    "    print('this is true')\n",
    "elif 4 == 5.0:\n",
    "    print(\"yes, it is\")\n",
    "elif 3>7:\n",
    "    print('Three > seven')\n",
    "else:\n",
    "    print('Nothing is true')"
   ]
  },
  {
   "cell_type": "code",
   "execution_count": 2,
   "id": "55b7120d-5bf2-4a15-bcec-9a744fba05af",
   "metadata": {},
   "outputs": [],
   "source": [
    "#python is an indentation language"
   ]
  },
  {
   "cell_type": "code",
   "execution_count": 8,
   "id": "2d03abd5-1330-484c-8168-dbbd2d4342fd",
   "metadata": {},
   "outputs": [],
   "source": [
    "# = -> assignment\n",
    "# == -> compasrison"
   ]
  },
  {
   "cell_type": "code",
   "execution_count": 9,
   "id": "7ed53314-8381-4f82-b3a4-1aa89ece3ac5",
   "metadata": {},
   "outputs": [],
   "source": [
    "x = 5\n",
    "y = 10"
   ]
  },
  {
   "cell_type": "code",
   "execution_count": 11,
   "id": "e33e13e7-4779-4a2a-83f0-cc89b51815d8",
   "metadata": {},
   "outputs": [
    {
     "name": "stdout",
     "output_type": "stream",
     "text": [
      "both x and y are greater than 0\n"
     ]
    }
   ],
   "source": [
    "if x>0 and y>0:\n",
    "    # and is an inclusive and\n",
    "    # or needs only one statement to be true\n",
    "    print('both x and y are greater than 0')"
   ]
  },
  {
   "cell_type": "code",
   "execution_count": 12,
   "id": "6074e57f-6935-437b-8c4c-e66ebd6d25c2",
   "metadata": {},
   "outputs": [
    {
     "name": "stdout",
     "output_type": "stream",
     "text": [
      "statement 1\n"
     ]
    }
   ],
   "source": [
    "if x < 5 or (x>5 or y>5):\n",
    "    print ('statement 1')\n",
    "else:\n",
    "    print('statement 2')"
   ]
  },
  {
   "cell_type": "code",
   "execution_count": 16,
   "id": "ea562415-c17c-46eb-8b8e-597f1295c85e",
   "metadata": {},
   "outputs": [
    {
     "name": "stdout",
     "output_type": "stream",
     "text": [
      "statement 3\n"
     ]
    }
   ],
   "source": [
    "if (x<1 and y>0) and (x==5 and y==10):\n",
    "    print ('statement 1')\n",
    "elif (y>10 or x>5) or (x<3 and y == -1):\n",
    "    print ('statement 2')\n",
    "elif (x>4 and y<100) and (y==10 or x<1):\n",
    "    print('statement 3')\n",
    "else:\n",
    "    (\"None are true\")"
   ]
  },
  {
   "cell_type": "code",
   "execution_count": null,
   "id": "f9cc3805-4b42-4c90-956a-e67c2d89ac4a",
   "metadata": {},
   "outputs": [],
   "source": []
  }
 ],
 "metadata": {
  "kernelspec": {
   "display_name": "Python 3",
   "language": "python",
   "name": "python3"
  },
  "language_info": {
   "codemirror_mode": {
    "name": "ipython",
    "version": 3
   },
   "file_extension": ".py",
   "mimetype": "text/x-python",
   "name": "python",
   "nbconvert_exporter": "python",
   "pygments_lexer": "ipython3",
   "version": "3.8.8"
  }
 },
 "nbformat": 4,
 "nbformat_minor": 5
}
