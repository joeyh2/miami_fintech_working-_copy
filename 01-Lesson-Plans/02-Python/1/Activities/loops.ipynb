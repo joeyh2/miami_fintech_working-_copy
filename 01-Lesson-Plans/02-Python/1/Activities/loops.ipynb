{
 "cells": [
  {
   "cell_type": "code",
   "execution_count": 1,
   "id": "f480dd48-58fb-4c95-8d1a-9611f9cb5336",
   "metadata": {},
   "outputs": [
    {
     "name": "stdout",
     "output_type": "stream",
     "text": [
      "0\n",
      "1\n",
      "2\n",
      "3\n",
      "4\n",
      "5\n",
      "6\n",
      "7\n",
      "8\n"
     ]
    }
   ],
   "source": [
    "# Loops\n",
    "for i in range(0,9): \n",
    "    print(i)"
   ]
  },
  {
   "cell_type": "code",
   "execution_count": 3,
   "id": "166074f1-672e-4a69-8069-5e931aec0f92",
   "metadata": {},
   "outputs": [],
   "source": [
    "# Loop through anything that is iterable\n",
    "# Lists, some objects, parts of a dictionary, strings, tuples, sets"
   ]
  },
  {
   "cell_type": "code",
   "execution_count": 5,
   "id": "adc55e4c-bdef-4798-8149-e737d3f21e9d",
   "metadata": {},
   "outputs": [
    {
     "name": "stdout",
     "output_type": "stream",
     "text": [
      "h\n",
      "e\n",
      "l\n",
      "l\n",
      "o\n",
      " \n",
      "w\n",
      "o\n",
      "r\n",
      "l\n",
      "d\n"
     ]
    }
   ],
   "source": [
    "for letter in \"hello world\":\n",
    "    print(letter)"
   ]
  },
  {
   "cell_type": "code",
   "execution_count": 7,
   "id": "21740591-81ec-403e-85ae-b31c3293e733",
   "metadata": {},
   "outputs": [
    {
     "name": "stdout",
     "output_type": "stream",
     "text": [
      "0\n",
      "3\n",
      "6\n",
      "9\n",
      "12\n",
      "15\n",
      "18\n",
      "21\n",
      "24\n",
      "27\n",
      "30\n"
     ]
    }
   ],
   "source": [
    "# List all multiples of 3 until I hit 30\n",
    "for x in range (0,31):\n",
    "    if x*3<=30:\n",
    "        print (x*3)"
   ]
  },
  {
   "cell_type": "code",
   "execution_count": 9,
   "id": "e3c12967-52a3-4164-aa77-e67c16ad26e4",
   "metadata": {},
   "outputs": [
    {
     "name": "stdout",
     "output_type": "stream",
     "text": [
      "5\n",
      "6\n",
      "7\n",
      "8\n",
      "9\n"
     ]
    }
   ],
   "source": [
    "#while loops will run until the conditional is no longer true\n",
    "x = 5\n",
    "while x<10:\n",
    "    print (x)\n",
    "    x = x + 1\n",
    "    # x+=1"
   ]
  },
  {
   "cell_type": "code",
   "execution_count": null,
   "id": "3516783b-60c3-4986-9e23-81a9aa1636de",
   "metadata": {},
   "outputs": [],
   "source": []
  }
 ],
 "metadata": {
  "kernelspec": {
   "display_name": "Python 3",
   "language": "python",
   "name": "python3"
  },
  "language_info": {
   "codemirror_mode": {
    "name": "ipython",
    "version": 3
   },
   "file_extension": ".py",
   "mimetype": "text/x-python",
   "name": "python",
   "nbconvert_exporter": "python",
   "pygments_lexer": "ipython3",
   "version": "3.7.10"
  }
 },
 "nbformat": 4,
 "nbformat_minor": 5
}
