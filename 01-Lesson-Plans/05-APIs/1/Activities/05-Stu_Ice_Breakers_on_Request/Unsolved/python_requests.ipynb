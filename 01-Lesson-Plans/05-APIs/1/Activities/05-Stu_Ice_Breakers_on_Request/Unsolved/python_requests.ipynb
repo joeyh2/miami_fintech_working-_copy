{
 "cells": [
  {
   "cell_type": "markdown",
   "metadata": {},
   "source": [
    "## Ice Breakers on Request"
   ]
  },
  {
   "cell_type": "markdown",
   "metadata": {},
   "source": [
    "### Import requests library"
   ]
  },
  {
   "cell_type": "code",
   "execution_count": 1,
   "metadata": {},
   "outputs": [],
   "source": [
    "import requests"
   ]
  },
  {
   "cell_type": "markdown",
   "metadata": {},
   "source": [
    "### Declare `request_urls`"
   ]
  },
  {
   "cell_type": "code",
   "execution_count": 2,
   "metadata": {},
   "outputs": [],
   "source": [
    "# Declare `url` variables\n",
    "prog_joke_url = \"https://official-joke-api.appspot.com/jokes/programming/random\"\n",
    "rand_joke_url = \"https://official-joke-api.appspot.com/jokes/random\"\n",
    "cat_facts_url = \"https://cat-fact.herokuapp.com/facts\"\n",
    "dot_spending_url = \"https://api.usaspending.gov//api/v2/references/agency/456/\"\n",
    "us_gdp_data_url = \"http://api.worldbank.org/v2/country/us?format=json\""
   ]
  },
  {
   "cell_type": "markdown",
   "metadata": {},
   "source": [
    "### Execute `GET` request using `requests` library"
   ]
  },
  {
   "cell_type": "code",
   "execution_count": 5,
   "metadata": {},
   "outputs": [
    {
     "data": {
      "text/plain": [
       "<Response [200]>"
      ]
     },
     "execution_count": 5,
     "metadata": {},
     "output_type": "execute_result"
    }
   ],
   "source": [
    "# Execute `GET` request with url\n",
    "requests.get(cat_facts_url)"
   ]
  },
  {
   "cell_type": "markdown",
   "metadata": {},
   "source": [
    "### Get response `status code`"
   ]
  },
  {
   "cell_type": "code",
   "execution_count": 6,
   "metadata": {},
   "outputs": [
    {
     "name": "stdout",
     "output_type": "stream",
     "text": [
      "<Response [200]>\n"
     ]
    }
   ],
   "source": [
    "# Print `response_data variable`\n",
    "response_data = requests.get(cat_facts_url)\n",
    "print(response_data)"
   ]
  },
  {
   "cell_type": "markdown",
   "metadata": {},
   "source": [
    "### Extract response `content`"
   ]
  },
  {
   "cell_type": "code",
   "execution_count": 7,
   "metadata": {},
   "outputs": [],
   "source": [
    "# Store response using `content` attribute\n",
    "response_content = response_data.content"
   ]
  },
  {
   "cell_type": "markdown",
   "metadata": {},
   "source": [
    "### Convert output to JSON"
   ]
  },
  {
   "cell_type": "code",
   "execution_count": 9,
   "metadata": {},
   "outputs": [],
   "source": [
    "# Format data as JSON\n",
    "data = response_data.json()"
   ]
  },
  {
   "cell_type": "markdown",
   "metadata": {},
   "source": [
    "### Format data with `json.dumps`"
   ]
  },
  {
   "cell_type": "code",
   "execution_count": 10,
   "metadata": {},
   "outputs": [
    {
     "name": "stdout",
     "output_type": "stream",
     "text": [
      "[\n",
      "    {\n",
      "        \"status\": {\n",
      "            \"verified\": true,\n",
      "            \"sentCount\": 1\n",
      "        },\n",
      "        \"_id\": \"58e008800aac31001185ed07\",\n",
      "        \"user\": \"58e007480aac31001185ecef\",\n",
      "        \"text\": \"Wikipedia has a recording of a cat meowing, because why not?\",\n",
      "        \"__v\": 0,\n",
      "        \"source\": \"user\",\n",
      "        \"updatedAt\": \"2020-08-23T20:20:01.611Z\",\n",
      "        \"type\": \"cat\",\n",
      "        \"createdAt\": \"2018-03-06T21:20:03.505Z\",\n",
      "        \"deleted\": false,\n",
      "        \"used\": false\n",
      "    },\n",
      "    {\n",
      "        \"status\": {\n",
      "            \"verified\": true,\n",
      "            \"sentCount\": 1\n",
      "        },\n",
      "        \"_id\": \"58e008630aac31001185ed01\",\n",
      "        \"user\": \"58e007480aac31001185ecef\",\n",
      "        \"text\": \"When cats grimace, they are usually \\\"taste-scenting.\\\" They have an extra organ that, with some breathing control, allows the cats to taste-sense the air.\",\n",
      "        \"__v\": 0,\n",
      "        \"source\": \"user\",\n",
      "        \"updatedAt\": \"2020-08-23T20:20:01.611Z\",\n",
      "        \"type\": \"cat\",\n",
      "        \"createdAt\": \"2018-02-07T21:20:02.903Z\",\n",
      "        \"deleted\": false,\n",
      "        \"used\": false\n",
      "    },\n",
      "    {\n",
      "        \"status\": {\n",
      "            \"verified\": true,\n",
      "            \"sentCount\": 1\n",
      "        },\n",
      "        \"_id\": \"58e00a090aac31001185ed16\",\n",
      "        \"user\": \"58e007480aac31001185ecef\",\n",
      "        \"text\": \"Cats make more than 100 different sounds whereas dogs make around 10.\",\n",
      "        \"__v\": 0,\n",
      "        \"source\": \"user\",\n",
      "        \"updatedAt\": \"2020-08-23T20:20:01.611Z\",\n",
      "        \"type\": \"cat\",\n",
      "        \"createdAt\": \"2018-02-11T21:20:03.745Z\",\n",
      "        \"deleted\": false,\n",
      "        \"used\": false\n",
      "    },\n",
      "    {\n",
      "        \"status\": {\n",
      "            \"verified\": true,\n",
      "            \"sentCount\": 1\n",
      "        },\n",
      "        \"_id\": \"58e009390aac31001185ed10\",\n",
      "        \"user\": \"58e007480aac31001185ecef\",\n",
      "        \"text\": \"Most cats are lactose intolerant, and milk can cause painful stomach cramps and diarrhea. It's best to forego the milk and just give your cat the standard: clean, cool drinking water.\",\n",
      "        \"__v\": 0,\n",
      "        \"source\": \"user\",\n",
      "        \"updatedAt\": \"2020-08-23T20:20:01.611Z\",\n",
      "        \"type\": \"cat\",\n",
      "        \"createdAt\": \"2018-03-04T21:20:02.979Z\",\n",
      "        \"deleted\": false,\n",
      "        \"used\": false\n",
      "    },\n",
      "    {\n",
      "        \"status\": {\n",
      "            \"verified\": true,\n",
      "            \"sentCount\": 1\n",
      "        },\n",
      "        \"_id\": \"58e008780aac31001185ed05\",\n",
      "        \"user\": \"58e007480aac31001185ecef\",\n",
      "        \"text\": \"Owning a cat can reduce the risk of stroke and heart attack by a third.\",\n",
      "        \"__v\": 0,\n",
      "        \"source\": \"user\",\n",
      "        \"updatedAt\": \"2020-08-23T20:20:01.611Z\",\n",
      "        \"type\": \"cat\",\n",
      "        \"createdAt\": \"2018-03-29T20:20:03.844Z\",\n",
      "        \"deleted\": false,\n",
      "        \"used\": false\n",
      "    }\n",
      "]\n"
     ]
    }
   ],
   "source": [
    "import json\n",
    "print(json.dumps(data, indent=4))\n",
    "# Use json.dumps to format data"
   ]
  },
  {
   "cell_type": "markdown",
   "metadata": {},
   "source": [
    "### Select value and store as variable"
   ]
  },
  {
   "cell_type": "code",
   "execution_count": 11,
   "metadata": {},
   "outputs": [
    {
     "data": {
      "text/plain": [
       "{'status': {'verified': True, 'sentCount': 1},\n",
       " '_id': '58e008800aac31001185ed07',\n",
       " 'user': '58e007480aac31001185ecef',\n",
       " 'text': 'Wikipedia has a recording of a cat meowing, because why not?',\n",
       " '__v': 0,\n",
       " 'source': 'user',\n",
       " 'updatedAt': '2020-08-23T20:20:01.611Z',\n",
       " 'type': 'cat',\n",
       " 'createdAt': '2018-03-06T21:20:03.505Z',\n",
       " 'deleted': False,\n",
       " 'used': False}"
      ]
     },
     "execution_count": 11,
     "metadata": {},
     "output_type": "execute_result"
    }
   ],
   "source": [
    "# Select a programming joke \n",
    "cat_tip_1 = data[0]\n",
    "\n",
    "# Select a cat joke from JSON output\n",
    "# selected_value = data['all'][0]['text']"
   ]
  },
  {
   "cell_type": "code",
   "execution_count": 9,
   "metadata": {},
   "outputs": [],
   "source": [
    "# Print selected values\n"
   ]
  }
 ],
 "metadata": {
  "kernelspec": {
   "display_name": "Python 3",
   "language": "python",
   "name": "python3"
  },
  "language_info": {
   "codemirror_mode": {
    "name": "ipython",
    "version": 3
   },
   "file_extension": ".py",
   "mimetype": "text/x-python",
   "name": "python",
   "nbconvert_exporter": "python",
   "pygments_lexer": "ipython3",
   "version": "3.7.10"
  }
 },
 "nbformat": 4,
 "nbformat_minor": 4
}
