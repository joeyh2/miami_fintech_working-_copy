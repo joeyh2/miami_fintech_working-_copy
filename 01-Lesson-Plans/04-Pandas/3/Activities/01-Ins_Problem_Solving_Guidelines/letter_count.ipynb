{
 "cells": [
  {
   "cell_type": "code",
   "execution_count": 55,
   "id": "da6b6266-b03f-4a3d-bcaa-6a496b7497ae",
   "metadata": {},
   "outputs": [],
   "source": [
    "encryptedMessage = 'CxowdwidnfgcisswCgohojlk'"
   ]
  },
  {
   "cell_type": "code",
   "execution_count": 10,
   "id": "f252ad2b-dde7-46ae-ae9c-5694bddf2e9b",
   "metadata": {},
   "outputs": [],
   "source": [
    "def decrypt(input):\n",
    "    index = 0\n",
    "    for x in input:\n",
    "        if x%2 == 0:\n",
    "            print(x)\n"
   ]
  },
  {
   "cell_type": "code",
   "execution_count": 26,
   "id": "e3ed7a55-2ee3-4e05-8dd1-28a2d4ac30f8",
   "metadata": {},
   "outputs": [
    {
     "data": {
      "text/plain": [
       "{'E': 1,\n",
       " 'x': 1,\n",
       " 'a': 1,\n",
       " 'm': 1,\n",
       " 'p': 1,\n",
       " 'l': 1,\n",
       " 'e': 4,\n",
       " 's': 1,\n",
       " 'n': 2,\n",
       " 't': 1,\n",
       " 'c': 1}"
      ]
     },
     "execution_count": 26,
     "metadata": {},
     "output_type": "execute_result"
    }
   ],
   "source": [
    "# Write a function that counts how many times a letter occurs in each string\n",
    "# Upper case counted individually from lower-case\n",
    "# 'Example sentence'\n",
    "# Initialize an empty dictionary for which a key is created upon first seeing that letter\n",
    "# Add counts as values to respective keys\n",
    "\n",
    "letter_count = {}\n",
    "\n",
    "def counter(input):\n",
    "    for letter in input:\n",
    "        if letter.isalpha():\n",
    "            if letter not in letter_count:\n",
    "                letter_count[letter] = 1\n",
    "            else:\n",
    "                letter_count[letter] += 1\n",
    "    return letter_count\n",
    "\n",
    "counter('Example sentence')"
   ]
  },
  {
   "cell_type": "code",
   "execution_count": 52,
   "id": "486b5783-bb24-458a-bd45-ecca92654669",
   "metadata": {},
   "outputs": [],
   "source": [
    "import collections\n",
    "def count_letters(text):\n",
    "            return collections.Counter(text)"
   ]
  },
  {
   "cell_type": "code",
   "execution_count": 53,
   "id": "bdcaecc6-bc67-4112-abce-f0b90dc1c84a",
   "metadata": {},
   "outputs": [],
   "source": [
    "x = count_letters(\"Example statement\")"
   ]
  },
  {
   "cell_type": "code",
   "execution_count": 54,
   "id": "dc5e982c-f55c-451f-83c8-1f16ac82e88a",
   "metadata": {},
   "outputs": [
    {
     "name": "stdout",
     "output_type": "stream",
     "text": [
      "None\n"
     ]
    }
   ],
   "source": [
    "print(x)"
   ]
  },
  {
   "cell_type": "code",
   "execution_count": null,
   "id": "0748272e-b286-45ca-b2a6-476c77b11a43",
   "metadata": {},
   "outputs": [],
   "source": []
  }
 ],
 "metadata": {
  "kernelspec": {
   "display_name": "Python 3",
   "language": "python",
   "name": "python3"
  },
  "language_info": {
   "codemirror_mode": {
    "name": "ipython",
    "version": 3
   },
   "file_extension": ".py",
   "mimetype": "text/x-python",
   "name": "python",
   "nbconvert_exporter": "python",
   "pygments_lexer": "ipython3",
   "version": "3.7.10"
  }
 },
 "nbformat": 4,
 "nbformat_minor": 5
}
