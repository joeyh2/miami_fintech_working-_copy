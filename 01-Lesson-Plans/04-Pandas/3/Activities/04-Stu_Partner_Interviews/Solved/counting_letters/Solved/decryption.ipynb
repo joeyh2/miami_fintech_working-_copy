{
 "cells": [
  {
   "cell_type": "code",
   "execution_count": 11,
   "id": "6eef5625-ca89-4ca6-968f-0b92321c8c51",
   "metadata": {},
   "outputs": [],
   "source": [
    "encryptedMessage = 'CxowdwixnxgdiissCgohojlk'"
   ]
  },
  {
   "cell_type": "code",
   "execution_count": 10,
   "id": "ec168e83-8a7c-4096-8784-6307ab488f1d",
   "metadata": {},
   "outputs": [
    {
     "name": "stdout",
     "output_type": "stream",
     "text": [
      "C\n",
      "o\n",
      "d\n",
      "i\n",
      "n\n",
      "g\n",
      "i\n",
      "s\n",
      "C\n",
      "o\n",
      "o\n",
      "l\n"
     ]
    }
   ],
   "source": [
    "def decrypt(inputString):\n",
    "    index = 0\n",
    "    for element in inputString:\n",
    "        if index % 2 == 0:\n",
    "            print(element)\n",
    "        index += 1\n",
    "decrypt(encryptedMessage)"
   ]
  },
  {
   "cell_type": "code",
   "execution_count": null,
   "id": "a19a13c7-f8d4-4363-9eab-699630323ce4",
   "metadata": {},
   "outputs": [],
   "source": []
  }
 ],
 "metadata": {
  "kernelspec": {
   "display_name": "Python 3",
   "language": "python",
   "name": "python3"
  },
  "language_info": {
   "codemirror_mode": {
    "name": "ipython",
    "version": 3
   },
   "file_extension": ".py",
   "mimetype": "text/x-python",
   "name": "python",
   "nbconvert_exporter": "python",
   "pygments_lexer": "ipython3",
   "version": "3.7.10"
  }
 },
 "nbformat": 4,
 "nbformat_minor": 5
}
