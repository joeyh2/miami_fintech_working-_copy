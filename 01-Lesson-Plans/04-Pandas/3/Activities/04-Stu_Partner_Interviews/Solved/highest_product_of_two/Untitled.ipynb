{
 "cells": [
  {
   "cell_type": "code",
   "execution_count": 27,
   "id": "50f26039-6711-4964-8a80-c977bf512ae5",
   "metadata": {},
   "outputs": [
    {
     "name": "stdout",
     "output_type": "stream",
     "text": [
      "100 100\n"
     ]
    }
   ],
   "source": [
    "# Looking to output largest possible multiple between two numbers of given list\n",
    "# initialize empty list to hold multiples\n",
    "# Call some sort of 'max' on that list to obtain largest\n",
    "\n",
    "[-100, 2, 42, 100]\n",
    "\n",
    "numbers = [-100, 2, 42, 100]\n",
    "largest = 0\n",
    "s_largest = 0\n",
    "for number in numbers:\n",
    "    if number > largest:\n",
    "        largest = number\n",
    "    if number>s_largest and s_largest < largest:\n",
    "        s_largest = number\n",
    "\n",
    "print(largest, s_largest)\n",
    "        \n",
    "    "
   ]
  },
  {
   "cell_type": "code",
   "execution_count": 2,
   "id": "635c2c62-24c3-4457-b569-eb3d7217f17d",
   "metadata": {},
   "outputs": [],
   "source": [
    "# drop largest OR\n",
    "# Sort list, take last two (ascending)"
   ]
  },
  {
   "cell_type": "code",
   "execution_count": 16,
   "id": "aefb6dc6-058e-4de5-ab84-8d3bb2fb0ac5",
   "metadata": {},
   "outputs": [],
   "source": [
    "numbers = [-100, 42, 2, 100]"
   ]
  },
  {
   "cell_type": "code",
   "execution_count": 22,
   "id": "f69d0ed0-42e3-49a3-872c-4dcfcd15f55f",
   "metadata": {},
   "outputs": [],
   "source": [
    "numbers.sort()"
   ]
  },
  {
   "cell_type": "code",
   "execution_count": 20,
   "id": "8afd18e7-8553-454c-81b1-af5fd92b5f3b",
   "metadata": {},
   "outputs": [
    {
     "name": "stdout",
     "output_type": "stream",
     "text": [
      "[-100, 2, 42, 100]\n"
     ]
    }
   ],
   "source": [
    "print(numbers)"
   ]
  },
  {
   "cell_type": "code",
   "execution_count": 23,
   "id": "666d6e88-ef29-402c-9b50-5c4f148e83d4",
   "metadata": {},
   "outputs": [],
   "source": [
    "product = (numbers[- 1])*(numbers[-2])"
   ]
  },
  {
   "cell_type": "code",
   "execution_count": 24,
   "id": "d7eee533-e181-401f-8875-906126aae6da",
   "metadata": {},
   "outputs": [
    {
     "data": {
      "text/plain": [
       "4200"
      ]
     },
     "execution_count": 24,
     "metadata": {},
     "output_type": "execute_result"
    }
   ],
   "source": [
    "product"
   ]
  },
  {
   "cell_type": "code",
   "execution_count": null,
   "id": "c1c596a2-b439-4a30-a507-9ddd35b8163f",
   "metadata": {},
   "outputs": [],
   "source": []
  }
 ],
 "metadata": {
  "kernelspec": {
   "display_name": "Python 3",
   "language": "python",
   "name": "python3"
  },
  "language_info": {
   "codemirror_mode": {
    "name": "ipython",
    "version": 3
   },
   "file_extension": ".py",
   "mimetype": "text/x-python",
   "name": "python",
   "nbconvert_exporter": "python",
   "pygments_lexer": "ipython3",
   "version": "3.8.8"
  }
 },
 "nbformat": 4,
 "nbformat_minor": 5
}
