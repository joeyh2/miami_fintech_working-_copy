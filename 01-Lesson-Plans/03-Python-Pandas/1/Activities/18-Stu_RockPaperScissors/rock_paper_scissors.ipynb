{
 "cells": [
  {
   "cell_type": "code",
   "execution_count": 42,
   "id": "ad1c6b5a-e8f0-4626-a414-946c016cd4a2",
   "metadata": {},
   "outputs": [
    {
     "name": "stdout",
     "output_type": "stream",
     "text": [
      "Let's Play Rock Paper Scissors!\n"
     ]
    },
    {
     "name": "stdin",
     "output_type": "stream",
     "text": [
      "Make your Choice: (r)ock, (p)aper, (s)cissors?  s\n"
     ]
    },
    {
     "name": "stdout",
     "output_type": "stream",
     "text": [
      "s\n",
      "You've tied, play again!\n"
     ]
    }
   ],
   "source": [
    "# Incorporate the random library\n",
    "import random\n",
    "\n",
    "# Print Title\n",
    "print(\"Let's Play Rock Paper Scissors!\")\n",
    "\n",
    "# Specify the three options\n",
    "options = [\"r\", \"p\", \"s\"]\n",
    "\n",
    "# Computer Selection\n",
    "computer_choice = random.choice(options)\n",
    "\n",
    "# User Selection\n",
    "user_choice = input(\"Make your Choice: (r)ock, (p)aper, (s)cissors? \")\n",
    "\n",
    "# Run Conditionals\n",
    "print(computer_choice)\n",
    "if computer_choice == \"r\":\n",
    "    if user_choice == \"p\":\n",
    "        print(f\"You won! because {user_choice} covers {computer_choice}\")\n",
    "    elif user_choice == \"s\":\n",
    "        print(f\"You lost! because {computer_choice} breaks {user_choice}\")\n",
    "    else: \n",
    "        print(\"You've tied, play again!\")\n",
    "elif computer_choice == \"p\":\n",
    "    if user_choice == \"s\":\n",
    "        print(f\"You won! because {user_choice} cuts {computer_choice}\")\n",
    "    elif user_choice == \"r\":\n",
    "        print(f\"You lost! because {computer_choice} covers {user_choice}\")\n",
    "    else: \n",
    "        print(\"You've tied, play again!\")\n",
    "else: \n",
    "    if user_choice == \"r\":\n",
    "        print(f\"You won! because {user_choice} breaks {computer_choice}\")\n",
    "    elif user_choice == \"p\":\n",
    "        print(f\"You lost! because {computer_choice} cuts {user_choice}\")\n",
    "    else: \n",
    "        print(\"You've tied, play again!\")"
   ]
  },
  {
   "cell_type": "code",
   "execution_count": null,
   "id": "15988ddd-5755-4cfa-b584-74b39cc82ff4",
   "metadata": {},
   "outputs": [],
   "source": []
  },
  {
   "cell_type": "code",
   "execution_count": null,
   "id": "785e2c43-b35c-4f62-836f-e2d589682d22",
   "metadata": {},
   "outputs": [],
   "source": []
  },
  {
   "cell_type": "code",
   "execution_count": null,
   "id": "c6624529-7078-48a7-9ff7-a4e7d64e199d",
   "metadata": {},
   "outputs": [],
   "source": []
  }
 ],
 "metadata": {
  "kernelspec": {
   "display_name": "Python 3",
   "language": "python",
   "name": "python3"
  },
  "language_info": {
   "codemirror_mode": {
    "name": "ipython",
    "version": 3
   },
   "file_extension": ".py",
   "mimetype": "text/x-python",
   "name": "python",
   "nbconvert_exporter": "python",
   "pygments_lexer": "ipython3",
   "version": "3.7.10"
  }
 },
 "nbformat": 4,
 "nbformat_minor": 5
}
