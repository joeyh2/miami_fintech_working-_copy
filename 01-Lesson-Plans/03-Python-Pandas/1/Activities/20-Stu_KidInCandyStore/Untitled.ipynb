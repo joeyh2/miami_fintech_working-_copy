{
 "cells": [
  {
   "cell_type": "code",
   "execution_count": 1,
   "id": "10ac36cf-bf6d-4428-aaf2-05530dabe999",
   "metadata": {},
   "outputs": [
    {
     "name": "stdout",
     "output_type": "stream",
     "text": [
      "[0] Snickers\n",
      "[1] Kit Kat\n",
      "[2] Sour Patch Kids\n",
      "[3] Juicy Fruit\n",
      "[4] Swedish Fish\n",
      "[5] Skittles\n",
      "[6] Hershey Bar\n",
      "[7] Starbursts\n",
      "[8] M&Ms\n"
     ]
    }
   ],
   "source": [
    "# The list of candies to print to the screen\n",
    "candyList = [\"Snickers\", \"Kit Kat\", \"Sour Patch Kids\", \"Juicy Fruit\", \"Swedish Fish\",\n",
    "             \"Skittles\", \"Hershey Bar\", \"Starbursts\", \"M&Ms\"]\n",
    "\n",
    "# The amount of candy the user will be allowed to choose\n",
    "allowance = 5\n",
    "\n",
    "# The list used to store all of the candies selected inside of\n",
    "candyCart = []\n",
    "\n",
    "# Print out options\n",
    "for i in range(len(candyList)):\n",
    "    print(\"[\" + str(i) + \"] \" + candyList[i])"
   ]
  },
  {
   "cell_type": "code",
   "execution_count": null,
   "id": "f942d389-27a8-41e4-abcd-ec5f65bd54d7",
   "metadata": {},
   "outputs": [
    {
     "name": "stdout",
     "output_type": "stream",
     "text": [
      "[0] Snickers\n",
      "[1] Kit Kat\n",
      "[2] Sour Patch Kids\n",
      "[3] Juicy Fruit\n",
      "[4] Swedish Fish\n",
      "[5] Skittles\n",
      "[6] Hershey Bar\n",
      "[7] Starbursts\n",
      "[8] M&Ms\n"
     ]
    }
   ],
   "source": [
    "choosing = \"yes\"\n",
    "while choosing == \"yes\":\n",
    "    for i in range(len(candyList)):\n",
    "        print(\"[\" + str(i) + \"] \" + candyList[i])\n",
    "    selection = int(input(\"Please chooser a number correspinding to a candy\"))\n",
    "    candyCart.append(candyList[selection])\n",
    "    \n",
    "    choosing = input(\"Would you like to select another candy? (yes/no)\")  "
   ]
  },
  {
   "cell_type": "code",
   "execution_count": 13,
   "id": "3848c2c9-ccab-4401-b39c-daeae8303ccc",
   "metadata": {},
   "outputs": [
    {
     "name": "stdout",
     "output_type": "stream",
     "text": [
      "You've selected the following candy:\n",
      "Snickers\n",
      "Kit Kat\n",
      "Starbursts\n"
     ]
    }
   ],
   "source": [
    "print(f\"You've selected the following candy:\")\n",
    "for c in candyCart:\n",
    "    print(c)"
   ]
  },
  {
   "cell_type": "code",
   "execution_count": 12,
   "id": "da393f97-ab33-4171-b51e-1f7b75be73cd",
   "metadata": {},
   "outputs": [
    {
     "name": "stdout",
     "output_type": "stream",
     "text": [
      "You've selected Snickers--Kit Kat--Starbursts to take home with you!\n"
     ]
    }
   ],
   "source": [
    "print(f\"You've selected {'--'.join(candyCart)} to take home with you!\")"
   ]
  },
  {
   "cell_type": "code",
   "execution_count": 14,
   "id": "9a3ac78d-618c-4919-a4e5-315913a96e77",
   "metadata": {},
   "outputs": [
    {
     "data": {
      "text/plain": [
       "'Snickers,Kit Kat,Starbursts'"
      ]
     },
     "execution_count": 14,
     "metadata": {},
     "output_type": "execute_result"
    }
   ],
   "source": [
    "\",\".join(candyCart)"
   ]
  },
  {
   "cell_type": "code",
   "execution_count": null,
   "id": "20d38b6a-9c07-4e53-970a-ec741c914842",
   "metadata": {},
   "outputs": [],
   "source": []
  }
 ],
 "metadata": {
  "kernelspec": {
   "display_name": "Python 3",
   "language": "python",
   "name": "python3"
  },
  "language_info": {
   "codemirror_mode": {
    "name": "ipython",
    "version": 3
   },
   "file_extension": ".py",
   "mimetype": "text/x-python",
   "name": "python",
   "nbconvert_exporter": "python",
   "pygments_lexer": "ipython3",
   "version": "3.7.10"
  }
 },
 "nbformat": 4,
 "nbformat_minor": 5
}
