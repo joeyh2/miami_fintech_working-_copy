{
 "cells": [
  {
   "cell_type": "code",
   "execution_count": 1,
   "id": "4164f8ea-539d-43b8-9211-9d41b74c6204",
   "metadata": {},
   "outputs": [
    {
     "data": {
      "text/plain": [
       "NoneType"
      ]
     },
     "execution_count": 1,
     "metadata": {},
     "output_type": "execute_result"
    }
   ],
   "source": [
    "#basic data types: strings, integeras, floats, booleans\n",
    "#creating None data type\n",
    "subject = None\n",
    "type(subject)"
   ]
  },
  {
   "cell_type": "code",
   "execution_count": 2,
   "id": "ea563a01-1fae-461f-a3b1-5a06dac7dfcc",
   "metadata": {},
   "outputs": [],
   "source": [
    "subject = \"Programmers\""
   ]
  },
  {
   "cell_type": "code",
   "execution_count": 3,
   "id": "a7619c64-db52-49c1-8922-f4d2ed0a1b4c",
   "metadata": {},
   "outputs": [],
   "source": [
    "fn=\"Joseph\"\n",
    "ln=\"Hagemann\""
   ]
  },
  {
   "cell_type": "code",
   "execution_count": 4,
   "id": "0deead17-c3e3-49e5-bfc0-245d5e9c5afb",
   "metadata": {},
   "outputs": [],
   "source": [
    "#Concatenating Strings\n",
    "#Does not work with string and nunmber\n",
    "full_name=fn + \" \" + ln"
   ]
  },
  {
   "cell_type": "code",
   "execution_count": 5,
   "id": "f90b0eb5-0ba0-4461-aebe-f2cbf94b6ba9",
   "metadata": {},
   "outputs": [
    {
     "name": "stdout",
     "output_type": "stream",
     "text": [
      "Joseph Hagemann\n"
     ]
    }
   ],
   "source": [
    "print(full_name)"
   ]
  },
  {
   "cell_type": "code",
   "execution_count": 6,
   "id": "8a44459f-5d37-4ad9-baf0-54b6a54fbf98",
   "metadata": {},
   "outputs": [
    {
     "name": "stdout",
     "output_type": "stream",
     "text": [
      "Joseph---Hagemann\n"
     ]
    }
   ],
   "source": [
    "full_name = f\"{fn}---{ln}\"\n",
    "print(full_name)"
   ]
  },
  {
   "cell_type": "code",
   "execution_count": 7,
   "id": "0741dacd-ccac-440b-a4b9-b1c347231ae5",
   "metadata": {},
   "outputs": [
    {
     "name": "stdout",
     "output_type": "stream",
     "text": [
      "37\n"
     ]
    }
   ],
   "source": [
    "birth_year = 1815\n",
    "death_year = 1852\n",
    "age_at_death = death_year - birth_year\n",
    "print(age_at_death)"
   ]
  },
  {
   "cell_type": "code",
   "execution_count": 8,
   "id": "67512457-c402-4340-a2e1-8c50e4525f3c",
   "metadata": {},
   "outputs": [
    {
     "name": "stdout",
     "output_type": "stream",
     "text": [
      "Joseph---Hagemann died at the age of 37\n"
     ]
    }
   ],
   "source": [
    "print(f'{full_name} died at the age of {age_at_death}')"
   ]
  },
  {
   "cell_type": "code",
   "execution_count": 9,
   "id": "94ed21cb-c6ab-4970-927f-e72d9acff11d",
   "metadata": {},
   "outputs": [
    {
     "name": "stdout",
     "output_type": "stream",
     "text": [
      "Joseph---Hagemann died at the age of 37\n"
     ]
    }
   ],
   "source": [
    "print('{} died at the age of {}'.format(full_name,age_at_death))"
   ]
  },
  {
   "cell_type": "code",
   "execution_count": 10,
   "id": "20a10790-2566-41e4-a221-2bb048449901",
   "metadata": {},
   "outputs": [],
   "source": [
    "farm_animals = [\"cow\",\"horse\",\"pig\",\"chicken\",\"sheep\"]"
   ]
  },
  {
   "cell_type": "code",
   "execution_count": 11,
   "id": "14f84515-bb54-4618-858a-4efb932dac36",
   "metadata": {},
   "outputs": [
    {
     "name": "stdout",
     "output_type": "stream",
     "text": [
      "Godzilla and Mothra are not farm animals\n"
     ]
    }
   ],
   "source": [
    "if farm_animals[0] == \"Gidzilla\":\n",
    "    print(\"RAWR!\")\n",
    "elif farm_animals[0] == \"Mothra\":\n",
    "    print(\"Whoosh\")\n",
    "else:\n",
    "    print(\"Godzilla and Mothra are not farm animals\")"
   ]
  },
  {
   "cell_type": "code",
   "execution_count": 12,
   "id": "d41b1615-66b3-4c43-9635-a5c1c779976e",
   "metadata": {},
   "outputs": [],
   "source": [
    "budget = 5000\n",
    "rent = 1500\n",
    "utilities = 150\n",
    "food = 250\n",
    "transportation = 350\n",
    "computer = 350"
   ]
  },
  {
   "cell_type": "code",
   "execution_count": 13,
   "id": "aa851ef7-c36e-4df3-9e4d-95bd0b641c30",
   "metadata": {},
   "outputs": [],
   "source": [
    "expenses = rent+utilities+food+transportation+computer"
   ]
  },
  {
   "cell_type": "code",
   "execution_count": 14,
   "id": "eaed1666-c3d0-4aa7-8c57-58a22b458341",
   "metadata": {},
   "outputs": [
    {
     "name": "stdout",
     "output_type": "stream",
     "text": [
      "I'm within budget\n"
     ]
    }
   ],
   "source": [
    "if expenses>budget:\n",
    "    print(\"I'm in trouble\")\n",
    "    computer = 1000\n",
    "else:\n",
    "    print(\"I'm within budget\")"
   ]
  },
  {
   "cell_type": "code",
   "execution_count": 15,
   "id": "f602ed87-e638-4ead-b63c-ef6bd3775b4a",
   "metadata": {},
   "outputs": [
    {
     "name": "stdin",
     "output_type": "stream",
     "text": [
      "What is your name? Joey\n"
     ]
    }
   ],
   "source": [
    "my_name=input(\"What is your name?\")"
   ]
  },
  {
   "cell_type": "code",
   "execution_count": 18,
   "id": "a88d17a8-27c4-45b1-8fdb-f2269d955ffb",
   "metadata": {},
   "outputs": [
    {
     "data": {
      "text/plain": [
       "'Joey'"
      ]
     },
     "execution_count": 18,
     "metadata": {},
     "output_type": "execute_result"
    }
   ],
   "source": [
    "my_name"
   ]
  },
  {
   "cell_type": "code",
   "execution_count": 19,
   "id": "9bfb9cd4-8540-44f1-b0cf-073f597d7ef7",
   "metadata": {},
   "outputs": [
    {
     "name": "stdin",
     "output_type": "stream",
     "text": [
      "How many years have you worked in data? 8\n"
     ]
    }
   ],
   "source": [
    "yrs_exp = input(\"How many years have you worked in data?\")\n",
    "yrs_exp = float(yrs_exp)"
   ]
  },
  {
   "cell_type": "code",
   "execution_count": 20,
   "id": "922458ef-f70d-46f9-bff2-9ec8ab261a88",
   "metadata": {},
   "outputs": [
    {
     "data": {
      "text/plain": [
       "float"
      ]
     },
     "execution_count": 20,
     "metadata": {},
     "output_type": "execute_result"
    }
   ],
   "source": [
    "type(yrs_exp)"
   ]
  },
  {
   "cell_type": "code",
   "execution_count": 21,
   "id": "8b631a14-77f5-41a7-a90b-1aedcd4c4f26",
   "metadata": {},
   "outputs": [
    {
     "name": "stdout",
     "output_type": "stream",
     "text": [
      "8.0\n"
     ]
    }
   ],
   "source": [
    "print(yrs_exp)"
   ]
  },
  {
   "cell_type": "code",
   "execution_count": 22,
   "id": "15098a46-2ce7-4190-a1c4-e1af61cfea39",
   "metadata": {},
   "outputs": [
    {
     "data": {
      "text/plain": [
       "['cow', 'horse', 'pig', 'chicken', 'sheep']"
      ]
     },
     "execution_count": 22,
     "metadata": {},
     "output_type": "execute_result"
    }
   ],
   "source": [
    "farm_animals"
   ]
  },
  {
   "cell_type": "code",
   "execution_count": 24,
   "id": "f6247200-0614-458d-8808-91e1e64950de",
   "metadata": {},
   "outputs": [
    {
     "name": "stdin",
     "output_type": "stream",
     "text": [
      "the cow goes... moo\n",
      "the horse goes... neigh\n",
      "the pig goes... oink\n",
      "the chicken goes... cluck\n",
      "the sheep goes... baaa\n"
     ]
    }
   ],
   "source": [
    "sounds = []\n",
    "for animal in farm_animals:\n",
    "    sound = input(f'the {animal} goes...')\n",
    "    sounds.append(sound)"
   ]
  },
  {
   "cell_type": "code",
   "execution_count": 25,
   "id": "1e0e47a2-e035-453c-b546-7c764f56159a",
   "metadata": {},
   "outputs": [
    {
     "data": {
      "text/plain": [
       "['moo', 'neigh', 'oink', 'cluck', 'baaa']"
      ]
     },
     "execution_count": 25,
     "metadata": {},
     "output_type": "execute_result"
    }
   ],
   "source": [
    "sounds"
   ]
  },
  {
   "cell_type": "code",
   "execution_count": 28,
   "id": "8e66a556-042a-44d0-a01a-d9afa47a7214",
   "metadata": {},
   "outputs": [
    {
     "data": {
      "text/plain": [
       "'a'"
      ]
     },
     "execution_count": 28,
     "metadata": {},
     "output_type": "execute_result"
    }
   ],
   "source": [
    "#lists\n",
    "list_1 = ['a', 'b', 'c']\n",
    "list_1[0]"
   ]
  },
  {
   "cell_type": "code",
   "execution_count": 30,
   "id": "cf92d9a7-549c-4bd3-a013-fc8b1dd85866",
   "metadata": {},
   "outputs": [],
   "source": [
    "my_dict={'name':'Joseph'}\n",
    "list_1.append(my_dict)"
   ]
  },
  {
   "cell_type": "code",
   "execution_count": 31,
   "id": "c2a6dd0b-24c0-415d-846e-c5a6955a839a",
   "metadata": {},
   "outputs": [
    {
     "data": {
      "text/plain": [
       "['a', 'b', 'c', {'name': 'Joseph'}]"
      ]
     },
     "execution_count": 31,
     "metadata": {},
     "output_type": "execute_result"
    }
   ],
   "source": [
    "list_1"
   ]
  },
  {
   "cell_type": "code",
   "execution_count": 32,
   "id": "c40afbb7-6487-4ea9-a176-ecd43a63bed2",
   "metadata": {},
   "outputs": [
    {
     "data": {
      "text/plain": [
       "'2000000'"
      ]
     },
     "execution_count": 32,
     "metadata": {},
     "output_type": "execute_result"
    }
   ],
   "source": [
    "my_city = {\"Name\":\"Tampa\", \"State\": \"Florida\", \"Population\":\"2000000\"}\n",
    "my_city[\"Population\"]"
   ]
  },
  {
   "cell_type": "code",
   "execution_count": 33,
   "id": "4bf43f0e-3c5d-41b2-8b8d-64c8f3aa6c08",
   "metadata": {},
   "outputs": [],
   "source": [
    "my_city[69] = \"Test\""
   ]
  },
  {
   "cell_type": "code",
   "execution_count": 34,
   "id": "2056997b-36c7-40d6-a9ca-3d0f365349fe",
   "metadata": {},
   "outputs": [
    {
     "data": {
      "text/plain": [
       "{'Name': 'Tampa', 'State': 'Florida', 'Population': '2000000', 69: 'Test'}"
      ]
     },
     "execution_count": 34,
     "metadata": {},
     "output_type": "execute_result"
    }
   ],
   "source": [
    "my_city"
   ]
  },
  {
   "cell_type": "code",
   "execution_count": 35,
   "id": "9dc9cf7c-d855-4e22-adac-5dd62a1670b1",
   "metadata": {},
   "outputs": [],
   "source": [
    "my_city[\"beach town\"] = \"yes\""
   ]
  },
  {
   "cell_type": "code",
   "execution_count": 36,
   "id": "94f760e0-355f-435c-8f49-c0d54f72ec35",
   "metadata": {},
   "outputs": [
    {
     "data": {
      "text/plain": [
       "{'Name': 'Tampa',\n",
       " 'State': 'Florida',\n",
       " 'Population': '2000000',\n",
       " 69: 'Test',\n",
       " 'beach town': 'yes'}"
      ]
     },
     "execution_count": 36,
     "metadata": {},
     "output_type": "execute_result"
    }
   ],
   "source": [
    "my_city"
   ]
  },
  {
   "cell_type": "code",
   "execution_count": 37,
   "id": "393d4433-10e5-4275-860f-f65c24f8ba41",
   "metadata": {},
   "outputs": [],
   "source": [
    "def print_my_city(key):\n",
    "    value = my_city[key]\n",
    "    print(f\"The value of this key {key} is {value}\")"
   ]
  },
  {
   "cell_type": "code",
   "execution_count": 38,
   "id": "4bbeaa63-7ac1-4a82-a098-eb0037ba68cc",
   "metadata": {},
   "outputs": [
    {
     "name": "stdout",
     "output_type": "stream",
     "text": [
      "The value of this key State is Florida\n"
     ]
    }
   ],
   "source": [
    "print_my_city(\"State\")"
   ]
  },
  {
   "cell_type": "code",
   "execution_count": 39,
   "id": "3bb296ef-6629-4f8d-b41a-4a545e7d32f4",
   "metadata": {},
   "outputs": [
    {
     "data": {
      "text/plain": [
       "['cow', 'horse', 'pig', 'chicken', 'sheep']"
      ]
     },
     "execution_count": 39,
     "metadata": {},
     "output_type": "execute_result"
    }
   ],
   "source": [
    "farm_animals"
   ]
  },
  {
   "cell_type": "code",
   "execution_count": 40,
   "id": "af95ab7b-7bd5-4b27-933b-a692c99ad713",
   "metadata": {},
   "outputs": [
    {
     "name": "stdout",
     "output_type": "stream",
     "text": [
      "cow\n",
      "horse\n",
      "pig\n",
      "chicken\n",
      "sheep\n"
     ]
    }
   ],
   "source": [
    "for animal in farm_animals:\n",
    "    print(animal)"
   ]
  },
  {
   "cell_type": "code",
   "execution_count": 49,
   "id": "aa6e38c1-e2eb-457d-9394-a4371b0bc0ad",
   "metadata": {},
   "outputs": [
    {
     "name": "stdout",
     "output_type": "stream",
     "text": [
      "I have a cow, next up is horse\n",
      "I have a horse, next up is pig\n",
      "I have a pig, next up is chicken\n",
      "I have a chicken, next up is sheep\n"
     ]
    }
   ],
   "source": [
    "for animal in range(len(farm_animals)-1):\n",
    "    print(f\"I have a {farm_animals[animal]}, next up is {farm_animals[animal+1]}\")"
   ]
  },
  {
   "cell_type": "code",
   "execution_count": 62,
   "id": "40dc9df0-2463-4a31-9de9-5c603e2d1b9a",
   "metadata": {},
   "outputs": [],
   "source": [
    "def cube_number(x):\n",
    "    output = x**3\n",
    "    #x *x *x\n",
    "    return output "
   ]
  },
  {
   "cell_type": "code",
   "execution_count": 64,
   "id": "7a40117e-e483-4b6c-82dd-a3950055a302",
   "metadata": {},
   "outputs": [],
   "source": [
    "cube_99=cube_number(99)"
   ]
  },
  {
   "cell_type": "code",
   "execution_count": 65,
   "id": "a627c966-b4d5-4b1f-a444-e8c0ed2eb6a1",
   "metadata": {},
   "outputs": [
    {
     "data": {
      "text/plain": [
       "970299"
      ]
     },
     "execution_count": 65,
     "metadata": {},
     "output_type": "execute_result"
    }
   ],
   "source": [
    "cube_99"
   ]
  },
  {
   "cell_type": "code",
   "execution_count": null,
   "id": "88caf8c9-708d-49dd-aaee-7d0c6fefc0b2",
   "metadata": {},
   "outputs": [],
   "source": []
  }
 ],
 "metadata": {
  "kernelspec": {
   "display_name": "Python 3",
   "language": "python",
   "name": "python3"
  },
  "language_info": {
   "codemirror_mode": {
    "name": "ipython",
    "version": 3
   },
   "file_extension": ".py",
   "mimetype": "text/x-python",
   "name": "python",
   "nbconvert_exporter": "python",
   "pygments_lexer": "ipython3",
   "version": "3.7.10"
  }
 },
 "nbformat": 4,
 "nbformat_minor": 5
}
